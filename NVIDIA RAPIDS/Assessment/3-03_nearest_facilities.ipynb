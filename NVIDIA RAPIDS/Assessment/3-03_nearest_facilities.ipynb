{
 "cells": [
  {
   "cell_type": "markdown",
   "metadata": {},
   "source": [
    "# Week 2: Identify Nearest Health Facilities"
   ]
  },
  {
   "cell_type": "markdown",
   "metadata": {},
   "source": [
    "<span style=\"color:red\">\n",
    "**UPDATE**\n",
    "\n",
    "Thank you for your analysis. Despite our warning efforts so far, the virus continues to spread rapidly. We want to get infected individuals treatment as quickly as possible, so we need your help to calculate which hospital or clinic is closest to each known infected individual in the population.\n",
    "</span>\n",
    "\n",
    "Your goal for this notebook will be to identify the nearest hospital or clinic for each infected person."
   ]
  },
  {
   "cell_type": "markdown",
   "metadata": {},
   "source": [
    "## Imports"
   ]
  },
  {
   "cell_type": "code",
   "execution_count": 42,
   "metadata": {},
   "outputs": [],
   "source": [
    "import cudf\n",
    "import cuml\n",
    "import cupy as cp"
   ]
  },
  {
   "cell_type": "markdown",
   "metadata": {},
   "source": [
    "## Load Population Data"
   ]
  },
  {
   "cell_type": "markdown",
   "metadata": {},
   "source": [
    "Begin by loading the `lat`, `long` and `infected` columns from `'./data/week2.csv'` into a cuDF data frame called `gdf`."
   ]
  },
  {
   "cell_type": "code",
   "execution_count": 43,
   "metadata": {},
   "outputs": [
    {
     "data": {
      "text/html": [
       "<div>\n",
       "<style scoped>\n",
       "    .dataframe tbody tr th:only-of-type {\n",
       "        vertical-align: middle;\n",
       "    }\n",
       "\n",
       "    .dataframe tbody tr th {\n",
       "        vertical-align: top;\n",
       "    }\n",
       "\n",
       "    .dataframe thead th {\n",
       "        text-align: right;\n",
       "    }\n",
       "</style>\n",
       "<table border=\"1\" class=\"dataframe\">\n",
       "  <thead>\n",
       "    <tr style=\"text-align: right;\">\n",
       "      <th></th>\n",
       "      <th>lat</th>\n",
       "      <th>long</th>\n",
       "      <th>infected</th>\n",
       "    </tr>\n",
       "  </thead>\n",
       "  <tbody>\n",
       "    <tr>\n",
       "      <th>0</th>\n",
       "      <td>54.522510</td>\n",
       "      <td>-1.571896</td>\n",
       "      <td>0.0</td>\n",
       "    </tr>\n",
       "    <tr>\n",
       "      <th>1</th>\n",
       "      <td>54.554030</td>\n",
       "      <td>-1.524968</td>\n",
       "      <td>0.0</td>\n",
       "    </tr>\n",
       "    <tr>\n",
       "      <th>2</th>\n",
       "      <td>54.552486</td>\n",
       "      <td>-1.435203</td>\n",
       "      <td>0.0</td>\n",
       "    </tr>\n",
       "    <tr>\n",
       "      <th>3</th>\n",
       "      <td>54.537189</td>\n",
       "      <td>-1.566215</td>\n",
       "      <td>0.0</td>\n",
       "    </tr>\n",
       "    <tr>\n",
       "      <th>4</th>\n",
       "      <td>54.528212</td>\n",
       "      <td>-1.588462</td>\n",
       "      <td>0.0</td>\n",
       "    </tr>\n",
       "    <tr>\n",
       "      <th>...</th>\n",
       "      <td>...</td>\n",
       "      <td>...</td>\n",
       "      <td>...</td>\n",
       "    </tr>\n",
       "    <tr>\n",
       "      <th>58479889</th>\n",
       "      <td>51.634416</td>\n",
       "      <td>-2.925863</td>\n",
       "      <td>0.0</td>\n",
       "    </tr>\n",
       "    <tr>\n",
       "      <th>58479890</th>\n",
       "      <td>51.556972</td>\n",
       "      <td>-3.036290</td>\n",
       "      <td>0.0</td>\n",
       "    </tr>\n",
       "    <tr>\n",
       "      <th>58479891</th>\n",
       "      <td>51.588992</td>\n",
       "      <td>-2.921915</td>\n",
       "      <td>0.0</td>\n",
       "    </tr>\n",
       "    <tr>\n",
       "      <th>58479892</th>\n",
       "      <td>51.590974</td>\n",
       "      <td>-2.954539</td>\n",
       "      <td>0.0</td>\n",
       "    </tr>\n",
       "    <tr>\n",
       "      <th>58479893</th>\n",
       "      <td>51.576716</td>\n",
       "      <td>-2.952142</td>\n",
       "      <td>0.0</td>\n",
       "    </tr>\n",
       "  </tbody>\n",
       "</table>\n",
       "<p>58479894 rows × 3 columns</p>\n",
       "</div>"
      ],
      "text/plain": [
       "                lat      long  infected\n",
       "0         54.522510 -1.571896       0.0\n",
       "1         54.554030 -1.524968       0.0\n",
       "2         54.552486 -1.435203       0.0\n",
       "3         54.537189 -1.566215       0.0\n",
       "4         54.528212 -1.588462       0.0\n",
       "...             ...       ...       ...\n",
       "58479889  51.634416 -2.925863       0.0\n",
       "58479890  51.556972 -3.036290       0.0\n",
       "58479891  51.588992 -2.921915       0.0\n",
       "58479892  51.590974 -2.954539       0.0\n",
       "58479893  51.576716 -2.952142       0.0\n",
       "\n",
       "[58479894 rows x 3 columns]"
      ]
     },
     "execution_count": 43,
     "metadata": {},
     "output_type": "execute_result"
    }
   ],
   "source": [
    "gdf = cudf.read_csv(\"./data/week2.csv\" , usecols=[\"lat\",\"long\",\"infected\"])\n",
    "gdf"
   ]
  },
  {
   "cell_type": "markdown",
   "metadata": {},
   "source": [
    "## Load Hospital and Clinics Data"
   ]
  },
  {
   "cell_type": "markdown",
   "metadata": {},
   "source": [
    "For this step, your goal is to create an `all_med` cuDF data frame that contains the latitudes and longitudes of all the hospitals (data found at `'./data/hospitals.csv'`) and clinics (data found at `'./data/clinics.csv'`)."
   ]
  },
  {
   "cell_type": "code",
   "execution_count": 44,
   "metadata": {},
   "outputs": [
    {
     "data": {
      "text/html": [
       "<div>\n",
       "<style scoped>\n",
       "    .dataframe tbody tr th:only-of-type {\n",
       "        vertical-align: middle;\n",
       "    }\n",
       "\n",
       "    .dataframe tbody tr th {\n",
       "        vertical-align: top;\n",
       "    }\n",
       "\n",
       "    .dataframe thead th {\n",
       "        text-align: right;\n",
       "    }\n",
       "</style>\n",
       "<table border=\"1\" class=\"dataframe\">\n",
       "  <thead>\n",
       "    <tr style=\"text-align: right;\">\n",
       "      <th></th>\n",
       "      <th>lat</th>\n",
       "      <th>long</th>\n",
       "    </tr>\n",
       "  </thead>\n",
       "  <tbody>\n",
       "    <tr>\n",
       "      <th>0</th>\n",
       "      <td>51.379997</td>\n",
       "      <td>-0.406042</td>\n",
       "    </tr>\n",
       "    <tr>\n",
       "      <th>1</th>\n",
       "      <td>51.315132</td>\n",
       "      <td>-0.556289</td>\n",
       "    </tr>\n",
       "    <tr>\n",
       "      <th>2</th>\n",
       "      <td>51.437195</td>\n",
       "      <td>-2.847193</td>\n",
       "    </tr>\n",
       "    <tr>\n",
       "      <th>3</th>\n",
       "      <td>53.459743</td>\n",
       "      <td>-2.245469</td>\n",
       "    </tr>\n",
       "    <tr>\n",
       "      <th>4</th>\n",
       "      <td>52.078121</td>\n",
       "      <td>-0.030604</td>\n",
       "    </tr>\n",
       "    <tr>\n",
       "      <th>...</th>\n",
       "      <td>...</td>\n",
       "      <td>...</td>\n",
       "    </tr>\n",
       "    <tr>\n",
       "      <th>19077</th>\n",
       "      <td>53.737923</td>\n",
       "      <td>-1.767982</td>\n",
       "    </tr>\n",
       "    <tr>\n",
       "      <th>19078</th>\n",
       "      <td>51.341579</td>\n",
       "      <td>-2.784808</td>\n",
       "    </tr>\n",
       "    <tr>\n",
       "      <th>19079</th>\n",
       "      <td>51.286285</td>\n",
       "      <td>-2.820388</td>\n",
       "    </tr>\n",
       "    <tr>\n",
       "      <th>19080</th>\n",
       "      <td>53.163048</td>\n",
       "      <td>-2.205781</td>\n",
       "    </tr>\n",
       "    <tr>\n",
       "      <th>19081</th>\n",
       "      <td>51.227219</td>\n",
       "      <td>-2.816258</td>\n",
       "    </tr>\n",
       "  </tbody>\n",
       "</table>\n",
       "<p>20311 rows × 2 columns</p>\n",
       "</div>"
      ],
      "text/plain": [
       "             lat      long\n",
       "0      51.379997 -0.406042\n",
       "1      51.315132 -0.556289\n",
       "2      51.437195 -2.847193\n",
       "3      53.459743 -2.245469\n",
       "4      52.078121 -0.030604\n",
       "...          ...       ...\n",
       "19077  53.737923 -1.767982\n",
       "19078  51.341579 -2.784808\n",
       "19079  51.286285 -2.820388\n",
       "19080  53.163048 -2.205781\n",
       "19081  51.227219 -2.816258\n",
       "\n",
       "[20311 rows x 2 columns]"
      ]
     },
     "execution_count": 44,
     "metadata": {},
     "output_type": "execute_result"
    }
   ],
   "source": [
    "hospitals = cudf.read_csv(\"./data/hospitals.csv\", usecols=[\"Latitude\",\"Longitude\"])\n",
    "clinics = cudf.read_csv(\"./data/clinics.csv\", usecols=[\"Latitude\",\"Longitude\"])\n",
    "\n",
    "frames = [hospitals,clinics]\n",
    "all_med = cudf.concat(frames)\n",
    "\n",
    "all_med = cudf.DataFrame({\"lat\" : all_med[\"Latitude\"], \"long\" : all_med[\"Longitude\"]})\n",
    "all_med"
   ]
  },
  {
   "cell_type": "markdown",
   "metadata": {},
   "source": [
    "Since we will be using the coordinates of those facilities, keep only those rows that are non-null in both  `Latitude` and `Longitude`."
   ]
  },
  {
   "cell_type": "code",
   "execution_count": 45,
   "metadata": {},
   "outputs": [
    {
     "data": {
      "text/html": [
       "<div>\n",
       "<style scoped>\n",
       "    .dataframe tbody tr th:only-of-type {\n",
       "        vertical-align: middle;\n",
       "    }\n",
       "\n",
       "    .dataframe tbody tr th {\n",
       "        vertical-align: top;\n",
       "    }\n",
       "\n",
       "    .dataframe thead th {\n",
       "        text-align: right;\n",
       "    }\n",
       "</style>\n",
       "<table border=\"1\" class=\"dataframe\">\n",
       "  <thead>\n",
       "    <tr style=\"text-align: right;\">\n",
       "      <th></th>\n",
       "      <th>lat</th>\n",
       "      <th>long</th>\n",
       "    </tr>\n",
       "  </thead>\n",
       "  <tbody>\n",
       "    <tr>\n",
       "      <th>0</th>\n",
       "      <td>51.379997</td>\n",
       "      <td>-0.406042</td>\n",
       "    </tr>\n",
       "    <tr>\n",
       "      <th>1</th>\n",
       "      <td>51.315132</td>\n",
       "      <td>-0.556289</td>\n",
       "    </tr>\n",
       "    <tr>\n",
       "      <th>2</th>\n",
       "      <td>51.437195</td>\n",
       "      <td>-2.847193</td>\n",
       "    </tr>\n",
       "    <tr>\n",
       "      <th>3</th>\n",
       "      <td>53.459743</td>\n",
       "      <td>-2.245469</td>\n",
       "    </tr>\n",
       "    <tr>\n",
       "      <th>4</th>\n",
       "      <td>52.078121</td>\n",
       "      <td>-0.030604</td>\n",
       "    </tr>\n",
       "    <tr>\n",
       "      <th>...</th>\n",
       "      <td>...</td>\n",
       "      <td>...</td>\n",
       "    </tr>\n",
       "    <tr>\n",
       "      <th>19077</th>\n",
       "      <td>53.737923</td>\n",
       "      <td>-1.767982</td>\n",
       "    </tr>\n",
       "    <tr>\n",
       "      <th>19078</th>\n",
       "      <td>51.341579</td>\n",
       "      <td>-2.784808</td>\n",
       "    </tr>\n",
       "    <tr>\n",
       "      <th>19079</th>\n",
       "      <td>51.286285</td>\n",
       "      <td>-2.820388</td>\n",
       "    </tr>\n",
       "    <tr>\n",
       "      <th>19080</th>\n",
       "      <td>53.163048</td>\n",
       "      <td>-2.205781</td>\n",
       "    </tr>\n",
       "    <tr>\n",
       "      <th>19081</th>\n",
       "      <td>51.227219</td>\n",
       "      <td>-2.816258</td>\n",
       "    </tr>\n",
       "  </tbody>\n",
       "</table>\n",
       "<p>20301 rows × 2 columns</p>\n",
       "</div>"
      ],
      "text/plain": [
       "             lat      long\n",
       "0      51.379997 -0.406042\n",
       "1      51.315132 -0.556289\n",
       "2      51.437195 -2.847193\n",
       "3      53.459743 -2.245469\n",
       "4      52.078121 -0.030604\n",
       "...          ...       ...\n",
       "19077  53.737923 -1.767982\n",
       "19078  51.341579 -2.784808\n",
       "19079  51.286285 -2.820388\n",
       "19080  53.163048 -2.205781\n",
       "19081  51.227219 -2.816258\n",
       "\n",
       "[20301 rows x 2 columns]"
      ]
     },
     "execution_count": 45,
     "metadata": {},
     "output_type": "execute_result"
    }
   ],
   "source": [
    "all_med = all_med.dropna()\n",
    "all_med"
   ]
  },
  {
   "cell_type": "markdown",
   "metadata": {},
   "source": [
    "## Make Grid Coordinates for Medical Facilities"
   ]
  },
  {
   "cell_type": "markdown",
   "metadata": {},
   "source": [
    "Provided for you in the next cell (which you can expand by clicking on the \"...\", and contract again after executing by clicking on the blue left border of the cell) is the lat/long to grid coordinates converter you have used earlier in the workshop. Use this converter to create grid coordinate values stored in `northing` and `easting` columns of the `all_med` data frame you created in the last step."
   ]
  },
  {
   "cell_type": "code",
   "execution_count": 46,
   "metadata": {
    "jupyter": {
     "source_hidden": true
    }
   },
   "outputs": [],
   "source": [
    "# https://www.ordnancesurvey.co.uk/docs/support/guide-coordinate-systems-great-britain.pdf\n",
    "\n",
    "def latlong2osgbgrid_cupy(lat, long, input_degrees=True):\n",
    "    '''\n",
    "    Converts latitude and longitude (ellipsoidal) coordinates into northing and easting (grid) coordinates, using a Transverse Mercator projection.\n",
    "    \n",
    "    Inputs:\n",
    "    lat: latitude coordinate (N)\n",
    "    long: longitude coordinate (E)\n",
    "    input_degrees: if True (default), interprets the coordinates as degrees; otherwise, interprets coordinates as radians\n",
    "    \n",
    "    Output:\n",
    "    (northing, easting)\n",
    "    '''\n",
    "    \n",
    "    if input_degrees:\n",
    "        lat = lat * cp.pi/180\n",
    "        long = long * cp.pi/180\n",
    "\n",
    "    a = 6377563.396\n",
    "    b = 6356256.909\n",
    "    e2 = (a**2 - b**2) / a**2\n",
    "\n",
    "    N0 = -100000 # northing of true origin\n",
    "    E0 = 400000 # easting of true origin\n",
    "    F0 = .9996012717 # scale factor on central meridian\n",
    "    phi0 = 49 * cp.pi / 180 # latitude of true origin\n",
    "    lambda0 = -2 * cp.pi / 180 # longitude of true origin and central meridian\n",
    "    \n",
    "    sinlat = cp.sin(lat)\n",
    "    coslat = cp.cos(lat)\n",
    "    tanlat = cp.tan(lat)\n",
    "    \n",
    "    latdiff = lat-phi0\n",
    "    longdiff = long-lambda0\n",
    "\n",
    "    n = (a-b) / (a+b)\n",
    "    nu = a * F0 * (1 - e2 * sinlat ** 2) ** -.5\n",
    "    rho = a * F0 * (1 - e2) * (1 - e2 * sinlat ** 2) ** -1.5\n",
    "    eta2 = nu / rho - 1\n",
    "    M = b * F0 * ((1 + n + 5/4 * (n**2 + n**3)) * latdiff - \n",
    "                  (3*(n+n**2) + 21/8 * n**3) * cp.sin(latdiff) * cp.cos(lat+phi0) +\n",
    "                  15/8 * (n**2 + n**3) * cp.sin(2*(latdiff)) * cp.cos(2*(lat+phi0)) - \n",
    "                  35/24 * n**3 * cp.sin(3*(latdiff)) * cp.cos(3*(lat+phi0)))\n",
    "    I = M + N0\n",
    "    II = nu/2 * sinlat * coslat\n",
    "    III = nu/24 * sinlat * coslat ** 3 * (5 - tanlat ** 2 + 9 * eta2)\n",
    "    IIIA = nu/720 * sinlat * coslat ** 5 * (61-58 * tanlat**2 + tanlat**4)\n",
    "    IV = nu * coslat\n",
    "    V = nu / 6 * coslat**3 * (nu/rho - cp.tan(lat)**2)\n",
    "    VI = nu / 120 * coslat ** 5 * (5 - 18 * tanlat**2 + tanlat**4 + 14 * eta2 - 58 * tanlat**2 * eta2)\n",
    "\n",
    "    northing = I + II * longdiff**2 + III * longdiff**4 + IIIA * longdiff**6\n",
    "    easting = E0 + IV * longdiff + V * longdiff**3 + VI * longdiff**5\n",
    "\n",
    "    return(northing, easting)"
   ]
  },
  {
   "cell_type": "code",
   "execution_count": 47,
   "metadata": {},
   "outputs": [
    {
     "data": {
      "text/html": [
       "<div>\n",
       "<style scoped>\n",
       "    .dataframe tbody tr th:only-of-type {\n",
       "        vertical-align: middle;\n",
       "    }\n",
       "\n",
       "    .dataframe tbody tr th {\n",
       "        vertical-align: top;\n",
       "    }\n",
       "\n",
       "    .dataframe thead th {\n",
       "        text-align: right;\n",
       "    }\n",
       "</style>\n",
       "<table border=\"1\" class=\"dataframe\">\n",
       "  <thead>\n",
       "    <tr style=\"text-align: right;\">\n",
       "      <th></th>\n",
       "      <th>lat</th>\n",
       "      <th>long</th>\n",
       "      <th>northing</th>\n",
       "      <th>easting</th>\n",
       "    </tr>\n",
       "  </thead>\n",
       "  <tbody>\n",
       "    <tr>\n",
       "      <th>0</th>\n",
       "      <td>51.379997</td>\n",
       "      <td>-0.406042</td>\n",
       "      <td>165810.468750</td>\n",
       "      <td>510917.53125</td>\n",
       "    </tr>\n",
       "    <tr>\n",
       "      <th>1</th>\n",
       "      <td>51.315132</td>\n",
       "      <td>-0.556289</td>\n",
       "      <td>158381.343750</td>\n",
       "      <td>500604.84375</td>\n",
       "    </tr>\n",
       "    <tr>\n",
       "      <th>2</th>\n",
       "      <td>51.437195</td>\n",
       "      <td>-2.847193</td>\n",
       "      <td>171305.781250</td>\n",
       "      <td>341119.37500</td>\n",
       "    </tr>\n",
       "    <tr>\n",
       "      <th>3</th>\n",
       "      <td>53.459743</td>\n",
       "      <td>-2.245469</td>\n",
       "      <td>395944.562500</td>\n",
       "      <td>383703.59375</td>\n",
       "    </tr>\n",
       "    <tr>\n",
       "      <th>4</th>\n",
       "      <td>52.078121</td>\n",
       "      <td>-0.030604</td>\n",
       "      <td>244071.703125</td>\n",
       "      <td>534945.18750</td>\n",
       "    </tr>\n",
       "    <tr>\n",
       "      <th>...</th>\n",
       "      <td>...</td>\n",
       "      <td>...</td>\n",
       "      <td>...</td>\n",
       "      <td>...</td>\n",
       "    </tr>\n",
       "    <tr>\n",
       "      <th>19077</th>\n",
       "      <td>53.737923</td>\n",
       "      <td>-1.767982</td>\n",
       "      <td>426887.031250</td>\n",
       "      <td>415302.53125</td>\n",
       "    </tr>\n",
       "    <tr>\n",
       "      <th>19078</th>\n",
       "      <td>51.341579</td>\n",
       "      <td>-2.784808</td>\n",
       "      <td>160625.125000</td>\n",
       "      <td>345341.25000</td>\n",
       "    </tr>\n",
       "    <tr>\n",
       "      <th>19079</th>\n",
       "      <td>51.286285</td>\n",
       "      <td>-2.820388</td>\n",
       "      <td>154503.671875</td>\n",
       "      <td>342794.59375</td>\n",
       "    </tr>\n",
       "    <tr>\n",
       "      <th>19080</th>\n",
       "      <td>53.163048</td>\n",
       "      <td>-2.205781</td>\n",
       "      <td>362932.500000</td>\n",
       "      <td>386243.40625</td>\n",
       "    </tr>\n",
       "    <tr>\n",
       "      <th>19081</th>\n",
       "      <td>51.227219</td>\n",
       "      <td>-2.816258</td>\n",
       "      <td>147932.437500</td>\n",
       "      <td>343009.59375</td>\n",
       "    </tr>\n",
       "  </tbody>\n",
       "</table>\n",
       "<p>20301 rows × 4 columns</p>\n",
       "</div>"
      ],
      "text/plain": [
       "             lat      long       northing       easting\n",
       "0      51.379997 -0.406042  165810.468750  510917.53125\n",
       "1      51.315132 -0.556289  158381.343750  500604.84375\n",
       "2      51.437195 -2.847193  171305.781250  341119.37500\n",
       "3      53.459743 -2.245469  395944.562500  383703.59375\n",
       "4      52.078121 -0.030604  244071.703125  534945.18750\n",
       "...          ...       ...            ...           ...\n",
       "19077  53.737923 -1.767982  426887.031250  415302.53125\n",
       "19078  51.341579 -2.784808  160625.125000  345341.25000\n",
       "19079  51.286285 -2.820388  154503.671875  342794.59375\n",
       "19080  53.163048 -2.205781  362932.500000  386243.40625\n",
       "19081  51.227219 -2.816258  147932.437500  343009.59375\n",
       "\n",
       "[20301 rows x 4 columns]"
      ]
     },
     "execution_count": 47,
     "metadata": {},
     "output_type": "execute_result"
    }
   ],
   "source": [
    "cupy_lat = cp.asarray(all_med['lat'])\n",
    "cupy_long = cp.asarray(all_med['long'])\n",
    "\n",
    "northing, easting = latlong2osgbgrid_cupy(cupy_lat,cupy_long)\n",
    "\n",
    "all_med['northing'] = northing.astype('float32')\n",
    "all_med['easting'] = easting.astype('float32')\n",
    "\n",
    "all_med"
   ]
  },
  {
   "cell_type": "markdown",
   "metadata": {},
   "source": [
    "## Find Closest Hospital or Clinic for Infected"
   ]
  },
  {
   "cell_type": "markdown",
   "metadata": {},
   "source": [
    "Fit `cuml.NearestNeighbors` with `all_med`'s `northing` and `easting` values, using the named argument `n_neighbors` set to `1`, and save the model as `knn`."
   ]
  },
  {
   "cell_type": "code",
   "execution_count": 48,
   "metadata": {},
   "outputs": [
    {
     "data": {
      "text/plain": [
       "NearestNeighbors(n_neighbors=1, verbose=4, handle=<cuml.common.handle.Handle object at 0x7f87fd5424d0>, algorithm='brute', metric='euclidean', p=2, metric_params=None, output_type='cudf')"
      ]
     },
     "execution_count": 48,
     "metadata": {},
     "output_type": "execute_result"
    }
   ],
   "source": [
    "knn = cuml.NearestNeighbors(n_neighbors=1)\n",
    "knn.fit(all_med[['northing', 'easting']])"
   ]
  },
  {
   "cell_type": "markdown",
   "metadata": {},
   "source": [
    "# Save every infected member in `gdf` into a new dataframe called `infected_gdf`."
   ]
  },
  {
   "cell_type": "code",
   "execution_count": 49,
   "metadata": {},
   "outputs": [
    {
     "data": {
      "text/html": [
       "<div>\n",
       "<style scoped>\n",
       "    .dataframe tbody tr th:only-of-type {\n",
       "        vertical-align: middle;\n",
       "    }\n",
       "\n",
       "    .dataframe tbody tr th {\n",
       "        vertical-align: top;\n",
       "    }\n",
       "\n",
       "    .dataframe thead th {\n",
       "        text-align: right;\n",
       "    }\n",
       "</style>\n",
       "<table border=\"1\" class=\"dataframe\">\n",
       "  <thead>\n",
       "    <tr style=\"text-align: right;\">\n",
       "      <th></th>\n",
       "      <th>index</th>\n",
       "      <th>lat</th>\n",
       "      <th>long</th>\n",
       "      <th>infected</th>\n",
       "    </tr>\n",
       "  </thead>\n",
       "  <tbody>\n",
       "    <tr>\n",
       "      <th>0</th>\n",
       "      <td>1346586</td>\n",
       "      <td>53.715826</td>\n",
       "      <td>-2.430079</td>\n",
       "      <td>1.0</td>\n",
       "    </tr>\n",
       "    <tr>\n",
       "      <th>1</th>\n",
       "      <td>1350932</td>\n",
       "      <td>53.664881</td>\n",
       "      <td>-2.425673</td>\n",
       "      <td>1.0</td>\n",
       "    </tr>\n",
       "    <tr>\n",
       "      <th>2</th>\n",
       "      <td>1352085</td>\n",
       "      <td>53.696765</td>\n",
       "      <td>-2.488940</td>\n",
       "      <td>1.0</td>\n",
       "    </tr>\n",
       "    <tr>\n",
       "      <th>3</th>\n",
       "      <td>1352799</td>\n",
       "      <td>53.696966</td>\n",
       "      <td>-2.488897</td>\n",
       "      <td>1.0</td>\n",
       "    </tr>\n",
       "    <tr>\n",
       "      <th>4</th>\n",
       "      <td>1357529</td>\n",
       "      <td>53.727804</td>\n",
       "      <td>-2.392959</td>\n",
       "      <td>1.0</td>\n",
       "    </tr>\n",
       "    <tr>\n",
       "      <th>...</th>\n",
       "      <td>...</td>\n",
       "      <td>...</td>\n",
       "      <td>...</td>\n",
       "      <td>...</td>\n",
       "    </tr>\n",
       "    <tr>\n",
       "      <th>70875</th>\n",
       "      <td>58459189</td>\n",
       "      <td>51.662717</td>\n",
       "      <td>-2.926850</td>\n",
       "      <td>1.0</td>\n",
       "    </tr>\n",
       "    <tr>\n",
       "      <th>70876</th>\n",
       "      <td>58459551</td>\n",
       "      <td>51.599350</td>\n",
       "      <td>-2.959175</td>\n",
       "      <td>1.0</td>\n",
       "    </tr>\n",
       "    <tr>\n",
       "      <th>70877</th>\n",
       "      <td>58461935</td>\n",
       "      <td>51.543825</td>\n",
       "      <td>-2.822984</td>\n",
       "      <td>1.0</td>\n",
       "    </tr>\n",
       "    <tr>\n",
       "      <th>70878</th>\n",
       "      <td>58464082</td>\n",
       "      <td>51.562536</td>\n",
       "      <td>-2.879492</td>\n",
       "      <td>1.0</td>\n",
       "    </tr>\n",
       "    <tr>\n",
       "      <th>70879</th>\n",
       "      <td>58464209</td>\n",
       "      <td>51.628748</td>\n",
       "      <td>-2.837151</td>\n",
       "      <td>1.0</td>\n",
       "    </tr>\n",
       "  </tbody>\n",
       "</table>\n",
       "<p>70880 rows × 4 columns</p>\n",
       "</div>"
      ],
      "text/plain": [
       "          index        lat      long  infected\n",
       "0       1346586  53.715826 -2.430079       1.0\n",
       "1       1350932  53.664881 -2.425673       1.0\n",
       "2       1352085  53.696765 -2.488940       1.0\n",
       "3       1352799  53.696966 -2.488897       1.0\n",
       "4       1357529  53.727804 -2.392959       1.0\n",
       "...         ...        ...       ...       ...\n",
       "70875  58459189  51.662717 -2.926850       1.0\n",
       "70876  58459551  51.599350 -2.959175       1.0\n",
       "70877  58461935  51.543825 -2.822984       1.0\n",
       "70878  58464082  51.562536 -2.879492       1.0\n",
       "70879  58464209  51.628748 -2.837151       1.0\n",
       "\n",
       "[70880 rows x 4 columns]"
      ]
     },
     "execution_count": 49,
     "metadata": {},
     "output_type": "execute_result"
    }
   ],
   "source": [
    "infected_gdf = gdf[gdf[\"infected\"] == 1].reset_index()\n",
    "infected_gdf"
   ]
  },
  {
   "cell_type": "markdown",
   "metadata": {},
   "source": [
    "Create `northing` and `easting` values for `infected_gdf`."
   ]
  },
  {
   "cell_type": "code",
   "execution_count": 50,
   "metadata": {},
   "outputs": [
    {
     "data": {
      "text/html": [
       "<div>\n",
       "<style scoped>\n",
       "    .dataframe tbody tr th:only-of-type {\n",
       "        vertical-align: middle;\n",
       "    }\n",
       "\n",
       "    .dataframe tbody tr th {\n",
       "        vertical-align: top;\n",
       "    }\n",
       "\n",
       "    .dataframe thead th {\n",
       "        text-align: right;\n",
       "    }\n",
       "</style>\n",
       "<table border=\"1\" class=\"dataframe\">\n",
       "  <thead>\n",
       "    <tr style=\"text-align: right;\">\n",
       "      <th></th>\n",
       "      <th>index</th>\n",
       "      <th>lat</th>\n",
       "      <th>long</th>\n",
       "      <th>infected</th>\n",
       "      <th>northing</th>\n",
       "      <th>easting</th>\n",
       "    </tr>\n",
       "  </thead>\n",
       "  <tbody>\n",
       "    <tr>\n",
       "      <th>0</th>\n",
       "      <td>1346586</td>\n",
       "      <td>53.715826</td>\n",
       "      <td>-2.430079</td>\n",
       "      <td>1.0</td>\n",
       "      <td>424489.781250</td>\n",
       "      <td>371619.68750</td>\n",
       "    </tr>\n",
       "    <tr>\n",
       "      <th>1</th>\n",
       "      <td>1350932</td>\n",
       "      <td>53.664881</td>\n",
       "      <td>-2.425673</td>\n",
       "      <td>1.0</td>\n",
       "      <td>418820.687500</td>\n",
       "      <td>371876.50000</td>\n",
       "    </tr>\n",
       "    <tr>\n",
       "      <th>2</th>\n",
       "      <td>1352085</td>\n",
       "      <td>53.696765</td>\n",
       "      <td>-2.488940</td>\n",
       "      <td>1.0</td>\n",
       "      <td>422394.406250</td>\n",
       "      <td>367721.00000</td>\n",
       "    </tr>\n",
       "    <tr>\n",
       "      <th>3</th>\n",
       "      <td>1352799</td>\n",
       "      <td>53.696966</td>\n",
       "      <td>-2.488897</td>\n",
       "      <td>1.0</td>\n",
       "      <td>422416.812500</td>\n",
       "      <td>367723.96875</td>\n",
       "    </tr>\n",
       "    <tr>\n",
       "      <th>4</th>\n",
       "      <td>1357529</td>\n",
       "      <td>53.727804</td>\n",
       "      <td>-2.392959</td>\n",
       "      <td>1.0</td>\n",
       "      <td>425808.125000</td>\n",
       "      <td>374076.56250</td>\n",
       "    </tr>\n",
       "    <tr>\n",
       "      <th>...</th>\n",
       "      <td>...</td>\n",
       "      <td>...</td>\n",
       "      <td>...</td>\n",
       "      <td>...</td>\n",
       "      <td>...</td>\n",
       "      <td>...</td>\n",
       "    </tr>\n",
       "    <tr>\n",
       "      <th>70875</th>\n",
       "      <td>58459189</td>\n",
       "      <td>51.662717</td>\n",
       "      <td>-2.926850</td>\n",
       "      <td>1.0</td>\n",
       "      <td>196451.125000</td>\n",
       "      <td>335900.96875</td>\n",
       "    </tr>\n",
       "    <tr>\n",
       "      <th>70876</th>\n",
       "      <td>58459551</td>\n",
       "      <td>51.599350</td>\n",
       "      <td>-2.959175</td>\n",
       "      <td>1.0</td>\n",
       "      <td>189433.453125</td>\n",
       "      <td>333573.00000</td>\n",
       "    </tr>\n",
       "    <tr>\n",
       "      <th>70877</th>\n",
       "      <td>58461935</td>\n",
       "      <td>51.543825</td>\n",
       "      <td>-2.822984</td>\n",
       "      <td>1.0</td>\n",
       "      <td>183143.984375</td>\n",
       "      <td>342935.12500</td>\n",
       "    </tr>\n",
       "    <tr>\n",
       "      <th>70878</th>\n",
       "      <td>58464082</td>\n",
       "      <td>51.562536</td>\n",
       "      <td>-2.879492</td>\n",
       "      <td>1.0</td>\n",
       "      <td>185270.296875</td>\n",
       "      <td>339042.06250</td>\n",
       "    </tr>\n",
       "    <tr>\n",
       "      <th>70879</th>\n",
       "      <td>58464209</td>\n",
       "      <td>51.628748</td>\n",
       "      <td>-2.837151</td>\n",
       "      <td>1.0</td>\n",
       "      <td>192598.796875</td>\n",
       "      <td>342060.96875</td>\n",
       "    </tr>\n",
       "  </tbody>\n",
       "</table>\n",
       "<p>70880 rows × 6 columns</p>\n",
       "</div>"
      ],
      "text/plain": [
       "          index        lat      long  infected       northing       easting\n",
       "0       1346586  53.715826 -2.430079       1.0  424489.781250  371619.68750\n",
       "1       1350932  53.664881 -2.425673       1.0  418820.687500  371876.50000\n",
       "2       1352085  53.696765 -2.488940       1.0  422394.406250  367721.00000\n",
       "3       1352799  53.696966 -2.488897       1.0  422416.812500  367723.96875\n",
       "4       1357529  53.727804 -2.392959       1.0  425808.125000  374076.56250\n",
       "...         ...        ...       ...       ...            ...           ...\n",
       "70875  58459189  51.662717 -2.926850       1.0  196451.125000  335900.96875\n",
       "70876  58459551  51.599350 -2.959175       1.0  189433.453125  333573.00000\n",
       "70877  58461935  51.543825 -2.822984       1.0  183143.984375  342935.12500\n",
       "70878  58464082  51.562536 -2.879492       1.0  185270.296875  339042.06250\n",
       "70879  58464209  51.628748 -2.837151       1.0  192598.796875  342060.96875\n",
       "\n",
       "[70880 rows x 6 columns]"
      ]
     },
     "execution_count": 50,
     "metadata": {},
     "output_type": "execute_result"
    }
   ],
   "source": [
    "cupy_lat = cp.asarray(infected_gdf['lat'])\n",
    "cupy_long = cp.asarray(infected_gdf['long'])\n",
    "\n",
    "northing, easting = latlong2osgbgrid_cupy(cupy_lat,cupy_long)\n",
    "\n",
    "infected_gdf['northing'] = northing.astype('float32')\n",
    "infected_gdf['easting'] = easting.astype('float32')\n",
    "\n",
    "infected_gdf"
   ]
  },
  {
   "cell_type": "markdown",
   "metadata": {},
   "source": [
    "Use `knn.kneighbors` with `n_neighbors=1` on `infected_gdf`'s `northing` and `easting` values. Save the return values in `distances` and `indices`."
   ]
  },
  {
   "cell_type": "code",
   "execution_count": 51,
   "metadata": {},
   "outputs": [],
   "source": [
    "distances, indices = knn.kneighbors(infected_gdf[[\"northing\",\"easting\"]], n_neighbors=1)"
   ]
  },
  {
   "cell_type": "markdown",
   "metadata": {},
   "source": [
    "### Check Your Solution"
   ]
  },
  {
   "cell_type": "markdown",
   "metadata": {},
   "source": [
    "`indices`, returned from your use of `knn.kneighbors` immediately above, should map person indices to their closest clinic/hospital indices:"
   ]
  },
  {
   "cell_type": "code",
   "execution_count": 57,
   "metadata": {},
   "outputs": [
    {
     "data": {
      "text/plain": [
       "0    18316\n",
       "1    12816\n",
       "2     4489\n",
       "3     4489\n",
       "4     4962\n",
       "dtype: int64"
      ]
     },
     "execution_count": 57,
     "metadata": {},
     "output_type": "execute_result"
    }
   ],
   "source": [
    "indices.head()"
   ]
  },
  {
   "cell_type": "markdown",
   "metadata": {},
   "source": [
    "Here you can print an infected individual's coordinates from `infected_gdf`:"
   ]
  },
  {
   "cell_type": "code",
   "execution_count": 60,
   "metadata": {},
   "outputs": [
    {
     "data": {
      "text/plain": [
       "index       1.346586e+06\n",
       "lat         5.371583e+01\n",
       "long       -2.430079e+00\n",
       "infected    1.000000e+00\n",
       "northing    4.244898e+05\n",
       "easting     3.716197e+05\n",
       "Name: 0, dtype: float64"
      ]
     },
     "execution_count": 60,
     "metadata": {},
     "output_type": "execute_result"
    }
   ],
   "source": [
    "infected_gdf.iloc[0] # get the coords of an infected individual (in this case, individual 0)"
   ]
  },
  {
   "cell_type": "markdown",
   "metadata": {},
   "source": [
    "You should be able to used the mapped index for the nearest facility to see that indeed the nearest facility is at a nearby coordinate:"
   ]
  },
  {
   "cell_type": "code",
   "execution_count": 62,
   "metadata": {},
   "outputs": [
    {
     "data": {
      "text/plain": [
       "lat             53.733227\n",
       "long            -2.455536\n",
       "northing    426435.968750\n",
       "easting     369952.218750\n",
       "Name: 17095, dtype: float64"
      ]
     },
     "execution_count": 62,
     "metadata": {},
     "output_type": "execute_result"
    }
   ],
   "source": [
    "all_med.iloc[18316] # printing the entry for facility 1234 (replace with the index identified as closest to the individual)"
   ]
  },
  {
   "cell_type": "markdown",
   "metadata": {},
   "source": [
    "<div align=\"center\"><h2>Please Restart the Kernel</h2></div>"
   ]
  },
  {
   "cell_type": "markdown",
   "metadata": {},
   "source": [
    "...before moving to the next notebook."
   ]
  },
  {
   "cell_type": "code",
   "execution_count": 63,
   "metadata": {},
   "outputs": [
    {
     "data": {
      "text/plain": [
       "{'status': 'ok', 'restart': True}"
      ]
     },
     "execution_count": 63,
     "metadata": {},
     "output_type": "execute_result"
    }
   ],
   "source": [
    "import IPython\n",
    "app = IPython.Application.instance()\n",
    "app.kernel.do_shutdown(True)"
   ]
  },
  {
   "cell_type": "code",
   "execution_count": null,
   "metadata": {},
   "outputs": [],
   "source": []
  }
 ],
 "metadata": {
  "kernelspec": {
   "display_name": "Python 3",
   "language": "python",
   "name": "python3"
  },
  "language_info": {
   "codemirror_mode": {
    "name": "ipython",
    "version": 3
   },
   "file_extension": ".py",
   "mimetype": "text/x-python",
   "name": "python",
   "nbconvert_exporter": "python",
   "pygments_lexer": "ipython3",
   "version": "3.7.8"
  }
 },
 "nbformat": 4,
 "nbformat_minor": 4
}
