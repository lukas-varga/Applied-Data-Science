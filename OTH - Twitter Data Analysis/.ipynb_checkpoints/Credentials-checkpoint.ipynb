{
 "cells": [
  {
   "cell_type": "markdown",
   "metadata": {},
   "source": [
    "# Credentials"
   ]
  },
  {
   "cell_type": "code",
   "execution_count": 6,
   "metadata": {},
   "outputs": [],
   "source": [
    "import json\n",
    "\n",
    "# My credentials\n",
    "credentials = {}\n",
    "credentials['CONSUMER_KEY'] = \"al3O7cOIE9XNk13NQjRnDhKYk\"\n",
    "credentials['CONSUMER_SECRET'] = \"mdWuXncUkVNd9zqg4CFH1rX4Nr0KZ3PqNi2s8E10vbvEFsNtDL\"\n",
    "credentials['BEARER_TOKEN'] = \"AAAAAAAAAAAAAAAAAAAAAO8yKwEAAAAAz3eP0eIcjI1ZFPXb72mV7Z5JSHQ%3DVkCRmKYKE6SBapkSWXUmWmC5rQqWmQzfFPxmxhuNrGgF6mmz2S\"\n",
    "credentials['ACCESS_TOKEN'] = \"1108440414795849735-eej2D9NxAI1oIVmsGADjrf9yEpRUvN\"\n",
    "credentials['ACCESS_TOKEN_SECRET'] = \"S3q0osEtfz6Hwn5wmdyQXsMwbTkU9AdCOpxqGdx7iMfkX\"\n",
    "\n",
    "# Save to json\n",
    "with open(\"twitter_credentials.json\", \"w\") as file:\n",
    "    json.dump(credentials, file)"
   ]
  },
  {
   "cell_type": "code",
   "execution_count": null,
   "metadata": {},
   "outputs": [],
   "source": []
  }
 ],
 "metadata": {
  "kernelspec": {
   "display_name": "Python 3",
   "language": "python",
   "name": "python3"
  },
  "language_info": {
   "codemirror_mode": {
    "name": "ipython",
    "version": 3
   },
   "file_extension": ".py",
   "mimetype": "text/x-python",
   "name": "python",
   "nbconvert_exporter": "python",
   "pygments_lexer": "ipython3",
   "version": "3.8.3"
  }
 },
 "nbformat": 4,
 "nbformat_minor": 4
}
