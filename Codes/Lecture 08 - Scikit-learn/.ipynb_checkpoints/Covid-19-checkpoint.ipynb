{
 "cells": [
  {
   "cell_type": "markdown",
   "metadata": {},
   "source": [
    "## Covid-19 Spread Analysis\n",
    "\n",
    "we will implement a live dashboard for COVID 19 spread analysis. This dashboard will provide many insightful visualizations for the study of coronavirus spread. In this project, we will work on three different datasets and generate different dashboards.\n",
    "\n",
    "![Map](./images/covid-19-analysis-output.gif)"
   ]
  },
  {
   "cell_type": "markdown",
   "metadata": {},
   "source": [
    "We will be using **flask* and **folium** python packages for making interactive dashboards.\n",
    "\n",
    "**Flask:** It is a web server gateway interface application in python. This is used for developing web apps. Using Flask we can build applications that can scale up to complex applications. Install Flask using:\n",
    "\n",
    "``pip install Flask``\n",
    "\n",
    "**Folium:** It is a python API for visualizing data. It is a good API to include map related visualizations. Install Folium using:\n",
    "\n",
    "``pip install folium``"
   ]
  },
  {
   "cell_type": "markdown",
   "metadata": {},
   "source": [
    "## Dataset\n",
    "\n",
    "The dataset consists of corona spread data from different countries and different cities. This dataset also contains the latitude and longitude of corona affected areas. We will filter and visualize the countries and the cites within countries with maximum corona cases. The three data csv files are located in the **data** folder of this module.\n",
    "\n",
    "### Data Format:\n",
    "\n",
    "    Country_Region\n",
    "    Last_Update\n",
    "    Lat\n",
    "    Long_\n",
    "    Confirmed\n",
    "    Deaths\n",
    "    Recovered\n",
    "    Active\n",
    "    Incident_Rate\n",
    "    People_Tested\n",
    "    People_Hospitalized\n",
    "    Mortality_Rate\n",
    "    UID\n",
    "    ISO3\n",
    "\n",
    "\n",
    "![covid-19](./images/covid-19-dataset.png)\n"
   ]
  },
  {
   "cell_type": "code",
   "execution_count": null,
   "metadata": {},
   "outputs": [],
   "source": []
  }
 ],
 "metadata": {
  "kernelspec": {
   "display_name": "Python 3",
   "language": "python",
   "name": "python3"
  },
  "language_info": {
   "codemirror_mode": {
    "name": "ipython",
    "version": 3
   },
   "file_extension": ".py",
   "mimetype": "text/x-python",
   "name": "python",
   "nbconvert_exporter": "python",
   "pygments_lexer": "ipython3",
   "version": "3.6.9"
  }
 },
 "nbformat": 4,
 "nbformat_minor": 4
}
