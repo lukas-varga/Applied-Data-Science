{
 "cells": [
  {
   "cell_type": "markdown",
   "metadata": {},
   "source": [
    "# Lecture 1 - Basics (Exercise)"
   ]
  },
  {
   "cell_type": "markdown",
   "metadata": {},
   "source": [
    "## Square root of 2"
   ]
  },
  {
   "cell_type": "code",
   "execution_count": 2,
   "metadata": {},
   "outputs": [
    {
     "name": "stdout",
     "output_type": "stream",
     "text": [
      "1.4142135623730951\n"
     ]
    }
   ],
   "source": [
    "import math\n",
    "math_sqrt = math.sqrt(2)\n",
    "print(math_sqrt)"
   ]
  },
  {
   "cell_type": "code",
   "execution_count": 3,
   "metadata": {},
   "outputs": [
    {
     "name": "stdout",
     "output_type": "stream",
     "text": [
      "1.4166666666666665\n"
     ]
    }
   ],
   "source": [
    "#Babylonian method\n",
    "\n",
    "n = 2 #desired square root\n",
    "accuracy = 0.01\n",
    "\n",
    "#default values\n",
    "x = n \n",
    "y = 1\n",
    "\n",
    "while x - y > accuracy: #do the loop till desired accuracy\n",
    "    x = (x + y) / 2 #average\n",
    "    y = n / x\n",
    "\n",
    "square = x\n",
    "print(square)"
   ]
  },
  {
   "cell_type": "markdown",
   "metadata": {},
   "source": [
    "## Traverse a string"
   ]
  },
  {
   "cell_type": "markdown",
   "metadata": {},
   "source": [
    "using iterator"
   ]
  },
  {
   "cell_type": "code",
   "execution_count": 4,
   "metadata": {},
   "outputs": [
    {
     "name": "stdout",
     "output_type": "stream",
     "text": [
      "This is a great opportunity to examine the value of strings.\n"
     ]
    }
   ],
   "source": [
    "test = \"This is a great opportunity to examine the value of strings.\"\n",
    "final = \"\"\n",
    "i = len(test)\n",
    "\n",
    "for i in range(0,i):\n",
    "    new_test = final+test[i]\n",
    "    final = new_test\n",
    "    #print(test[i])\n",
    "print(new_test)"
   ]
  },
  {
   "cell_type": "markdown",
   "metadata": {},
   "source": [
    "using for string"
   ]
  },
  {
   "cell_type": "code",
   "execution_count": 5,
   "metadata": {},
   "outputs": [
    {
     "name": "stdout",
     "output_type": "stream",
     "text": [
      "This is a great opportunity to examine the value of strings.\n"
     ]
    }
   ],
   "source": [
    "test = \"This is a great opportunity to examine the value of strings.\"\n",
    "final = \"\"\n",
    "\n",
    "for i in test:\n",
    "    new_test = final+i\n",
    "    final = new_test\n",
    "    #print(i)\n",
    "print(new_test) "
   ]
  },
  {
   "cell_type": "code",
   "execution_count": null,
   "metadata": {},
   "outputs": [],
   "source": []
  }
 ],
 "metadata": {
  "kernelspec": {
   "display_name": "Python 3",
   "language": "python",
   "name": "python3"
  },
  "language_info": {
   "codemirror_mode": {
    "name": "ipython",
    "version": 3
   },
   "file_extension": ".py",
   "mimetype": "text/x-python",
   "name": "python",
   "nbconvert_exporter": "python",
   "pygments_lexer": "ipython3",
   "version": "3.10.0"
  }
 },
 "nbformat": 4,
 "nbformat_minor": 4
}
