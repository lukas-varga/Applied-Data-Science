{
 "cells": [
  {
   "cell_type": "code",
   "execution_count": 27,
   "metadata": {},
   "outputs": [
    {
     "name": "stdout",
     "output_type": "stream",
     "text": [
      "54\n",
      "444\n",
      "39\n",
      "the\n"
     ]
    }
   ],
   "source": [
    "r = open(\"bill_of_rights.txt\", 'r')\n",
    "rows_num=0\n",
    "words_num=0\n",
    "counts = {}\n",
    "max_word=\"each word has only 1 occurrence\"\n",
    "max_occ=0\n",
    "for line in r: \n",
    "    for i in line:\n",
    "        if i == \" \" or i == \"\\r\\n\":\n",
    "            words_num += 1\n",
    "    rows_num += 1\n",
    "    words = line.split(\" \")\n",
    "    for e in words:\n",
    "        if e not in counts:\n",
    "            counts[e]=1\n",
    "        else:\n",
    "            counts[e]+=1\n",
    "            if(counts[e]>max_occ):\n",
    "                max_occ = counts[e]\n",
    "                max_word = e\n",
    "    \n",
    "       \n",
    "r = open(\"bill_of_rights.txt\", 'r')\n",
    "lines=r.readlines()\n",
    "\n",
    "for e in lines:\n",
    "    if e not in counts:\n",
    "        counts[e]=1\n",
    "    else:\n",
    "        counts[e]+=1\n",
    "   \n",
    "\n",
    "r.close()        \n",
    "w = open(\"stats.txt\",'w')\n",
    "w.write('Welcome to pythonexamples.org')\n",
    "w.close()\n",
    "\n",
    "print(rows_num)\n",
    "print(words_num)\n",
    "print(max_occ)\n",
    "print(max_word)"
   ]
  },
  {
   "cell_type": "code",
   "execution_count": null,
   "metadata": {},
   "outputs": [],
   "source": []
  },
  {
   "cell_type": "code",
   "execution_count": null,
   "metadata": {},
   "outputs": [],
   "source": []
  }
 ],
 "metadata": {
  "kernelspec": {
   "display_name": "Python 3",
   "language": "python",
   "name": "python3"
  },
  "language_info": {
   "codemirror_mode": {
    "name": "ipython",
    "version": 3
   },
   "file_extension": ".py",
   "mimetype": "text/x-python",
   "name": "python",
   "nbconvert_exporter": "python",
   "pygments_lexer": "ipython3",
   "version": "3.8.3"
  }
 },
 "nbformat": 4,
 "nbformat_minor": 4
}
