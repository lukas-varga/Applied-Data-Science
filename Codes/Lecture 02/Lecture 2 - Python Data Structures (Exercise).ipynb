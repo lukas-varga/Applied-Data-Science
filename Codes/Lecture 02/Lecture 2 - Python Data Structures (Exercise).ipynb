{
 "cells": [
  {
   "cell_type": "markdown",
   "metadata": {},
   "source": [
    "# Lecture 2 - Python Data Structures (Exercise)"
   ]
  },
  {
   "cell_type": "markdown",
   "metadata": {},
   "source": [
    "1. Adding elements in the list and print results"
   ]
  },
  {
   "cell_type": "code",
   "execution_count": 19,
   "metadata": {},
   "outputs": [
    {
     "data": {
      "text/plain": [
       "203"
      ]
     },
     "execution_count": 19,
     "metadata": {},
     "output_type": "execute_result"
    }
   ],
   "source": [
    "numbers = [45,76,-23,90,15]\n",
    "def addlistElements(l):\n",
    "    total = 0\n",
    "    for elem in l:\n",
    "        total+=elem\n",
    "    return total\n",
    "addlistElements(numbers)"
   ]
  },
  {
   "cell_type": "code",
   "execution_count": 18,
   "metadata": {},
   "outputs": [
    {
     "name": "stdout",
     "output_type": "stream",
     "text": [
      "[45, 76, -23, 90, 15, 15]\n"
     ]
    }
   ],
   "source": [
    "numbers = [45,76,-23,90,15]\n",
    "def addElem(value):\n",
    "    numbers.append(value)\n",
    "    print(list(numbers))\n",
    "addElem(15)"
   ]
  },
  {
   "cell_type": "markdown",
   "metadata": {},
   "source": [
    "2. Create histogram of words"
   ]
  },
  {
   "cell_type": "code",
   "execution_count": 4,
   "metadata": {},
   "outputs": [
    {
     "name": "stdout",
     "output_type": "stream",
     "text": [
      "the\n",
      "2\n",
      "cat\n",
      "1\n",
      "sat\n",
      "1\n",
      "on\n",
      "1\n",
      "mat\n",
      "1\n"
     ]
    }
   ],
   "source": [
    "words = [\"the\",\"cat\",\"sat\",\"on\",\"the\",\"mat\"]\n",
    "counts = {}\n",
    "for w in words:\n",
    "    if w not in counts:\n",
    "        counts[w]=1\n",
    "    else:\n",
    "        counts[w]+=1\n",
    "for i in counts:\n",
    "    print(i)\n",
    "    print(counts[i])"
   ]
  },
  {
   "cell_type": "code",
   "execution_count": 3,
   "metadata": {},
   "outputs": [
    {
     "data": {
      "text/plain": [
       "{'the': 2, 'cat': 1, 'sat': 1, 'on': 1, 'mat': 1}"
      ]
     },
     "execution_count": 3,
     "metadata": {},
     "output_type": "execute_result"
    }
   ],
   "source": [
    "counts"
   ]
  },
  {
   "cell_type": "code",
   "execution_count": null,
   "metadata": {},
   "outputs": [],
   "source": []
  }
 ],
 "metadata": {
  "kernelspec": {
   "display_name": "Python 3",
   "language": "python",
   "name": "python3"
  },
  "language_info": {
   "codemirror_mode": {
    "name": "ipython",
    "version": 3
   },
   "file_extension": ".py",
   "mimetype": "text/x-python",
   "name": "python",
   "nbconvert_exporter": "python",
   "pygments_lexer": "ipython3",
   "version": "3.8.3"
  }
 },
 "nbformat": 4,
 "nbformat_minor": 4
}
