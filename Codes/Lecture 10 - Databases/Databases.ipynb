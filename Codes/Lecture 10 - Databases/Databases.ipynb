{
 "cells": [
  {
   "cell_type": "markdown",
   "metadata": {},
   "source": [
    "## Introduction to Python SQL Libraries\n",
    "\n",
    "In this activity we will work with three relational databases, SQlite, MySQL and PostgreSQL. All three of these database products are used for product develop and as well as Data Science.\n",
    "\n",
    "By default SQLite should already be installed, as part of the Python installation process. SQLite databases are serverless and self-contained, since they read and write data to a file. This means that, unlike with MySQL and PostgreSQL, you don’t even need to install and run an SQLite server to perform database operations!\n",
    "\n",
    "To install MySQL refer to this site:\n",
    "\n",
    "https://dev.mysql.com\n",
    "\n",
    "To install PostgreSQL refer to this site.\n",
    "\n",
    "https://postgresql.org\n",
    "\n",
    "We will start off by review the following high level database schema.\n",
    "\n",
    "![image1.png](images/image1.png)\n",
    "\n",
    "\n",
    "Both ``users`` and ``posts`` will have a one-to-many relationship since one user can like many posts. Similarly, one user can post many comments, and one post can have multiple comments. So, both ``users`` and ``posts`` will also have  one-to-many releationshops with the ``comments`` table. This also applies to the ``likes`` table, so both ``users`` and ``posts`` will have a one-to-many relationship with the ``likes`` table.\n",
    "\n",
    "\n",
    "## Connecting to the three databases\n",
    "\n",
    "We will first start off by walking through creating a connection to a SQLite database, then followed by MySQL and finally PostgreSQL\n",
    "\n",
    "### Connecting to an SQLite database using sqlite3\n",
    "\n",
    "We will import the sqlite3 library to connect to an SQLite database in Python:"
   ]
  },
  {
   "cell_type": "code",
   "execution_count": 31,
   "metadata": {},
   "outputs": [],
   "source": [
    "import sqlite3\n",
    "\n",
    "from sqlite3 import Error\n",
    "\n",
    "\n",
    "def create_connection(path):\n",
    "\n",
    "    connection = None\n",
    "\n",
    "    try:\n",
    "\n",
    "        connection = sqlite3.connect(path)\n",
    "\n",
    "        print(\"Connection to SQLite DB successful\")\n",
    "\n",
    "    except Error as e:\n",
    "\n",
    "        print(f\"The error '{e}' occurred\")\n",
    "\n",
    "\n",
    "    return connection\n"
   ]
  },
  {
   "cell_type": "markdown",
   "metadata": {},
   "source": [
    "\n",
    "- Lines 1 and 2 import ``sqlite3`` and the module’s ``Error`` class.\n",
    "\n",
    "- Line 4 defines a function ``.create_connection()`` that accepts the path to the SQLite database.\n",
    "\n",
    "- Line 7 uses ``.connect()`` from the sqlite3 module and takes the SQLite database path as a parameter. If the database exists at the specified location, then a connection to the database is established. Otherwise, a new database is created at the specified location, and a connection is established.\n",
    "\n",
    "- Line 8 prints the status of the successful database connection.\n",
    "\n",
    "- Line 9 catches any ``exception`` that might be thrown if ``.connect()`` fails to establish a connection.\n",
    "\n",
    "- Line 10 displays the error message in the console.\n",
    "\n",
    "Now that we have our function created for ``.create_conneciton()`` lets create a database called ``my_app.sqlite`` in the default folder for this Jupyter Notebook. Note if you are using windows the syntax  would be ``\"E:\\\\my_app.sqlite\"``.\n"
   ]
  },
  {
   "cell_type": "code",
   "execution_count": 32,
   "metadata": {},
   "outputs": [
    {
     "name": "stdout",
     "output_type": "stream",
     "text": [
      "Connection to SQLite DB successful\n"
     ]
    }
   ],
   "source": [
    "connection = create_connection(\"my_app.sqlite\")"
   ]
  },
  {
   "cell_type": "markdown",
   "metadata": {},
   "source": [
    "### Connecting to a MySQL\n",
    "\n",
    "Unlike SQLite, there’s no default Python SQL module that you can use to connect to a MySQL database. Instead, you’ll need to install a Python SQL driver for MySQL in order to interact with a MySQL database from within a Python application. One such driver is mysql-connector-python. You can download this Python SQL module with ``pip install mysql-connector-python``. You will need to open up a terminal window or command prompt depending Operating System.\n",
    "\n",
    "MySQL is a server-based database management system. One MySQL server can have multiple databases. Unlike SQLite, where creating a connection is tantamount to creating a database, a MySQL database has a two-step process for database creation:\n",
    "\n",
    "- Make a connection to a MySQL server.\n",
    "- Execute a separate query to create the database.\n",
    "\n",
    "Lets start off by defining a function that connects to the MySQL database server and returns the connection object:\n",
    "\n",
    "NOTE: if you encounter an access error establishing a connection to the database using Linux use the following to resolve your error: https://stackoverflow.com/questions/39281594/error-1698-28000-access-denied-for-user-rootlocalhost"
   ]
  },
  {
   "cell_type": "code",
   "execution_count": 5,
   "metadata": {},
   "outputs": [
    {
     "name": "stdout",
     "output_type": "stream",
     "text": [
      "Connection to MySQL DB successful\n"
     ]
    }
   ],
   "source": [
    "import mysql.connector\n",
    "\n",
    "from mysql.connector import Error\n",
    "\n",
    "\n",
    "def create_connection(host_name, user_name, user_password):\n",
    "\n",
    "    connection = None\n",
    "\n",
    "    try:\n",
    "\n",
    "        connection = mysql.connector.connect(\n",
    "\n",
    "            host=host_name,\n",
    "\n",
    "            user=user_name,\n",
    "\n",
    "            passwd=user_password\n",
    "\n",
    "        )\n",
    "\n",
    "        print(\"Connection to MySQL DB successful\")\n",
    "\n",
    "    except Error as e:\n",
    "\n",
    "        print(f\"The error '{e}' occurred\")\n",
    "\n",
    "\n",
    "    return connection\n",
    "\n",
    "\n",
    "connection = create_connection(\"localhost\", \"root\", \"admin\")"
   ]
  },
  {
   "cell_type": "markdown",
   "metadata": {},
   "source": [
    "In the above script, we define a function ``create_connection()`` that accepts three parameters:\n",
    "\n",
    "- ``host_name``\n",
    "- ``user_name``\n",
    "- ``user_password``\n",
    "\n",
    "The mysql.connector Python SQL module contains a method ``.connect()`` that you use in line 7 to connect to a MySQL database server. Once the connection is established, the connection object is returned to the calling function. Finally, in line 18 you call ``create_connection()`` with the ``host name``, ``username``, and ``password``.\n",
    "\n",
    "So far, you’ve only established the connection. The database is not yet created. To do this, you’ll define another function ``create_database()`` that accepts two parameters:\n",
    "\n",
    "- connection is the connection object to the database server that you want to interact with.\n",
    "- query is the query that creates the database.\n",
    "\n",
    "Here’s what this function looks like:"
   ]
  },
  {
   "cell_type": "code",
   "execution_count": 6,
   "metadata": {},
   "outputs": [],
   "source": [
    "def create_database(connection, query):\n",
    "    cursor = connection.cursor()\n",
    "    try:\n",
    "        cursor.execute(query)\n",
    "        print(\"Database created successfully\")\n",
    "    except Error as e:\n",
    "        print(f\"The error '{e}' occurred\")\n"
   ]
  },
  {
   "cell_type": "markdown",
   "metadata": {},
   "source": [
    "To execute queries, you use the ``cursor`` object. The query to be executed is passed to ``cursor.execute()`` in string format.\n",
    "\n",
    "Create a database named my_app for your social media app in the MySQL database server:"
   ]
  },
  {
   "cell_type": "code",
   "execution_count": 7,
   "metadata": {},
   "outputs": [
    {
     "name": "stdout",
     "output_type": "stream",
     "text": [
      "Database created successfully\n"
     ]
    }
   ],
   "source": [
    "create_database_query = \"CREATE DATABASE my_app\"\n",
    "create_database(connection, create_database_query)"
   ]
  },
  {
   "cell_type": "markdown",
   "metadata": {},
   "source": [
    "Now you’ve created a database my_app on the database server. However, the connection object returned by the ``create_connection()`` is connected to the MySQL database server. You need to connect to the my_app database. To do so, you can modify ``create_connection()`` as follows:"
   ]
  },
  {
   "cell_type": "code",
   "execution_count": 44,
   "metadata": {},
   "outputs": [
    {
     "name": "stdout",
     "output_type": "stream",
     "text": [
      "Connection to MYSQL DB successful\n"
     ]
    }
   ],
   "source": [
    "import mysql.connector\n",
    "\n",
    "from mysql.connector import Error\n",
    "\n",
    "\n",
    "def create_connection(host_name, user_name, user_password, db_name):\n",
    "\n",
    "    connection = None\n",
    "\n",
    "    try:\n",
    "\n",
    "        connection = mysql.connector.connect(\n",
    "\n",
    "            host=host_name,\n",
    "\n",
    "            user=user_name,\n",
    "\n",
    "            passwd=user_password,\n",
    "            \n",
    "            database=db_name\n",
    "\n",
    "        )\n",
    "\n",
    "        print(\"Connection to MYSQL DB successful\")\n",
    "\n",
    "    except Error as e:\n",
    "\n",
    "        print(f\"The error '{e}' occurred\")\n",
    "\n",
    "\n",
    "    return connection\n",
    "\n",
    "\n",
    "connection = create_connection(\"localhost\", \"root\", \"admin\", \"my_app\")\n"
   ]
  },
  {
   "cell_type": "markdown",
   "metadata": {},
   "source": [
    "## Creating Tables\n",
    "\n",
    "In the previous section, you saw how to connect to SQLite, MySQL, and PostgreSQL database servers using different Python SQL libraries. You created the ``my_app`` database on all three database servers. In this section, you’ll see how to ``create tables`` inside these three databases.\n",
    "\n",
    "As discussed earlier, you’ll create four tables:\n",
    "\n",
    "- users\n",
    "- posts\n",
    "- comments\n",
    "- likes\n",
    "\n",
    "we will start off with SQLite.\n",
    "\n",
    "### SQLlite Table Creation\n",
    "\n",
    "To execute queries in SQLite, use ``cursor.execute()``. In this section, you’ll define a function ``execute_query()`` that uses this method. Your function will accept the connection object and a query string, which you’ll pass to ``cursor.execute()``.\n",
    "\n",
    "``.execute()`` can execute any query passed to it in the form of string. You’ll use this method to create tables in this section. In the upcoming sections, you’ll use this same method to execute ``update`` and ``delete`` queries as well. This code tries to execute the given query and prints an error message if necessary."
   ]
  },
  {
   "cell_type": "code",
   "execution_count": 18,
   "metadata": {},
   "outputs": [],
   "source": [
    "def execute_query(connection, query):\n",
    "    cursor = connection.cursor()\n",
    "    try:\n",
    "        cursor.execute(query)\n",
    "        connection.commit()\n",
    "        print(\"Query executed successfully\")\n",
    "    except Error as e:\n",
    "        print(f\"The error '{e}' occurred\")\n"
   ]
  },
  {
   "cell_type": "markdown",
   "metadata": {},
   "source": [
    "Next we will generate our query for the ``Users`` table."
   ]
  },
  {
   "cell_type": "code",
   "execution_count": 19,
   "metadata": {},
   "outputs": [],
   "source": [
    "create_users_table = \"\"\"\n",
    "CREATE TABLE IF NOT EXISTS users (\n",
    "  id INTEGER PRIMARY KEY AUTOINCREMENT,\n",
    "  name TEXT NOT NULL,\n",
    "  age INTEGER,\n",
    "  gender TEXT,\n",
    "  nationality TEXT\n",
    ");\n",
    "\"\"\"\n"
   ]
  },
  {
   "cell_type": "markdown",
   "metadata": {},
   "source": [
    "This says to create a table ``users`` with the following five columns:\n",
    "\n",
    "- id\n",
    "- name\n",
    "- age\n",
    "- gender\n",
    "- nationality\n",
    "\n",
    "Finally, we will call ``execute_query()`` to create the ``users`` table. You’ll pass in the connection object that you created in the previous section, along with the ``create_users_table`` string that contains the create table query:"
   ]
  },
  {
   "cell_type": "code",
   "execution_count": 20,
   "metadata": {},
   "outputs": [
    {
     "name": "stdout",
     "output_type": "stream",
     "text": [
      "Query executed successfully\n"
     ]
    }
   ],
   "source": [
    "execute_query(connection, create_users_table) "
   ]
  },
  {
   "cell_type": "markdown",
   "metadata": {},
   "source": [
    "Next we will generate our query for the ``posts`` table."
   ]
  },
  {
   "cell_type": "code",
   "execution_count": 21,
   "metadata": {},
   "outputs": [],
   "source": [
    "create_posts_table = \"\"\"\n",
    "CREATE TABLE IF NOT EXISTS posts(\n",
    "  id INTEGER PRIMARY KEY AUTOINCREMENT, \n",
    "  title TEXT NOT NULL, \n",
    "  description TEXT NOT NULL, \n",
    "  user_id INTEGER NOT NULL, \n",
    "  FOREIGN KEY (user_id) REFERENCES users (id)\n",
    ");\n",
    "\"\"\"\n"
   ]
  },
  {
   "cell_type": "code",
   "execution_count": 22,
   "metadata": {},
   "outputs": [
    {
     "name": "stdout",
     "output_type": "stream",
     "text": [
      "Query executed successfully\n"
     ]
    }
   ],
   "source": [
    "execute_query(connection, create_posts_table) "
   ]
  },
  {
   "cell_type": "markdown",
   "metadata": {},
   "source": [
    "Next we will create the quesry for both the ``comments`` and ``likes`` table"
   ]
  },
  {
   "cell_type": "code",
   "execution_count": 23,
   "metadata": {},
   "outputs": [
    {
     "name": "stdout",
     "output_type": "stream",
     "text": [
      "Query executed successfully\n",
      "Query executed successfully\n"
     ]
    }
   ],
   "source": [
    "create_comments_table = \"\"\"\n",
    "CREATE TABLE IF NOT EXISTS comments (\n",
    "  id INTEGER PRIMARY KEY AUTOINCREMENT, \n",
    "  text TEXT NOT NULL, \n",
    "  user_id INTEGER NOT NULL, \n",
    "  post_id INTEGER NOT NULL, \n",
    "  FOREIGN KEY (user_id) REFERENCES users (id) FOREIGN KEY (post_id) REFERENCES posts (id)\n",
    ");\n",
    "\"\"\"\n",
    "\n",
    "create_likes_table = \"\"\"\n",
    "CREATE TABLE IF NOT EXISTS likes (\n",
    "  id INTEGER PRIMARY KEY AUTOINCREMENT, \n",
    "  user_id INTEGER NOT NULL, \n",
    "  post_id integer NOT NULL, \n",
    "  FOREIGN KEY (user_id) REFERENCES users (id) FOREIGN KEY (post_id) REFERENCES posts (id)\n",
    ");\n",
    "\"\"\"\n",
    "\n",
    "execute_query(connection, create_comments_table)  \n",
    "execute_query(connection, create_likes_table)  "
   ]
  },
  {
   "cell_type": "markdown",
   "metadata": {},
   "source": [
    "Now that our tables are created for SQLite lets create the tables for MySQL.\n",
    "\n",
    "### MySQL Table Creation\n",
    "\n",
    "We will use the ``mysql-connector-python`` Python SQL module to create tables in MySQL. Just like with SQLite, you need to pass your query to ``cursor.execute()``, which is returned by calling ``.cursor()`` on the connection object. You can create another function ``execute_query()`` that accepts the connection and query string:"
   ]
  },
  {
   "cell_type": "code",
   "execution_count": 26,
   "metadata": {},
   "outputs": [],
   "source": [
    "def execute_query(connection, query):\n",
    "\n",
    "    cursor = connection.cursor()\n",
    "\n",
    "    try:\n",
    "\n",
    "        cursor.execute(query) # pass our Query through\n",
    "\n",
    "        connection.commit()\n",
    "\n",
    "        print(\"Query executed successfully\")\n",
    "\n",
    "    except Error as e:\n",
    "\n",
    "        print(f\"The error '{e}' occurred\")"
   ]
  },
  {
   "cell_type": "markdown",
   "metadata": {},
   "source": [
    "Now lets create the ``users`` table."
   ]
  },
  {
   "cell_type": "code",
   "execution_count": 27,
   "metadata": {},
   "outputs": [
    {
     "name": "stdout",
     "output_type": "stream",
     "text": [
      "Query executed successfully\n"
     ]
    }
   ],
   "source": [
    "create_users_table = \"\"\"\n",
    "CREATE TABLE IF NOT EXISTS users (\n",
    "  id INT AUTO_INCREMENT, \n",
    "  name TEXT NOT NULL, \n",
    "  age INT, \n",
    "  gender TEXT, \n",
    "  nationality TEXT, \n",
    "  PRIMARY KEY (id)\n",
    ") ENGINE = InnoDB\n",
    "\"\"\"\n",
    "\n",
    "execute_query(connection, create_users_table)\n"
   ]
  },
  {
   "cell_type": "markdown",
   "metadata": {},
   "source": [
    "Now Lets create the ``posts`` table."
   ]
  },
  {
   "cell_type": "code",
   "execution_count": 28,
   "metadata": {},
   "outputs": [
    {
     "name": "stdout",
     "output_type": "stream",
     "text": [
      "Query executed successfully\n"
     ]
    }
   ],
   "source": [
    "create_posts_table = \"\"\"\n",
    "CREATE TABLE IF NOT EXISTS posts (\n",
    "  id INT AUTO_INCREMENT, \n",
    "  title TEXT NOT NULL, \n",
    "  description TEXT NOT NULL, \n",
    "  user_id INTEGER NOT NULL, \n",
    "  FOREIGN KEY fk_user_id (user_id) REFERENCES users(id), \n",
    "  PRIMARY KEY (id)\n",
    ") ENGINE = InnoDB\n",
    "\"\"\"\n",
    "\n",
    "execute_query(connection, create_posts_table)\n"
   ]
  },
  {
   "cell_type": "code",
   "execution_count": 29,
   "metadata": {},
   "outputs": [
    {
     "name": "stdout",
     "output_type": "stream",
     "text": [
      "Query executed successfully\n",
      "Query executed successfully\n"
     ]
    }
   ],
   "source": [
    "create_comments_table = \"\"\"\n",
    "CREATE TABLE IF NOT EXISTS comments (\n",
    "  id INT AUTO_INCREMENT, \n",
    "  text TEXT NOT NULL, \n",
    "  user_id INTEGER NOT NULL, \n",
    "  post_id INTEGER NOT NULL,  \n",
    "  FOREIGN KEY fk_user_id (user_id) REFERENCES users(id), FOREIGN KEY (post_id) REFERENCES posts (id), \n",
    "  PRIMARY KEY (id)\n",
    ") ENGINE = InnoDB\n",
    "\"\"\"\n",
    "\n",
    "create_likes_table = \"\"\"\n",
    "CREATE TABLE IF NOT EXISTS likes (\n",
    "  id INT AUTO_INCREMENT, \n",
    "  user_id INTEGER NOT NULL, \n",
    "  post_id integer NOT NULL, \n",
    "  FOREIGN KEY fk_user_id (user_id) REFERENCES users(id), FOREIGN KEY (post_id) REFERENCES posts (id), \n",
    "  PRIMARY KEY (id)\n",
    ") ENGINE = InnoDB\n",
    "\"\"\"\n",
    "\n",
    "execute_query(connection, create_comments_table)\n",
    "execute_query(connection, create_likes_table)"
   ]
  },
  {
   "cell_type": "markdown",
   "metadata": {},
   "source": [
    "### Inserting Records using SQLite\n",
    "\n",
    "Now that we have created our tables its times to add some data to them. We will start by adding five records into the ``users`` table."
   ]
  },
  {
   "cell_type": "code",
   "execution_count": 33,
   "metadata": {},
   "outputs": [
    {
     "name": "stdout",
     "output_type": "stream",
     "text": [
      "Query executed successfully\n"
     ]
    }
   ],
   "source": [
    "create_users = \"\"\"\n",
    "INSERT INTO\n",
    "  users (name, age, gender, nationality)\n",
    "VALUES\n",
    "  ('James', 25, 'male', 'USA'),\n",
    "  ('Leila', 32, 'female', 'France'),\n",
    "  ('Brigitte', 35, 'female', 'England'),\n",
    "  ('Mike', 40, 'male', 'Denmark'),\n",
    "  ('Elizabeth', 21, 'female', 'Canada');\n",
    "\"\"\"\n",
    "\n",
    "execute_query(connection, create_users)  "
   ]
  },
  {
   "cell_type": "markdown",
   "metadata": {},
   "source": [
    "Since you set the id column to auto-increment, you don’t need to specify the value of the id column for these users. The users table will auto-populate these five records with id values from 1 to 5.\n",
    "\n",
    "We will now insert six records into the ``posts`` table.\n"
   ]
  },
  {
   "cell_type": "code",
   "execution_count": 34,
   "metadata": {},
   "outputs": [
    {
     "name": "stdout",
     "output_type": "stream",
     "text": [
      "Query executed successfully\n"
     ]
    }
   ],
   "source": [
    "create_posts = \"\"\"\n",
    "INSERT INTO\n",
    "  posts (title, description, user_id)\n",
    "VALUES\n",
    "  (\"Happy\", \"I am feeling very happy today\", 1),\n",
    "  (\"Hot Weather\", \"The weather is very hot today\", 2),\n",
    "  (\"Help\", \"I need some help with my work\", 2),\n",
    "  (\"Great News\", \"I am getting married\", 1),\n",
    "  (\"Interesting Game\", \"It was a fantastic game of tennis\", 5),\n",
    "  (\"Party\", \"Anyone up for a late-night party today?\", 3);\n",
    "\"\"\"\n",
    "\n",
    "execute_query(connection, create_posts)  "
   ]
  },
  {
   "cell_type": "markdown",
   "metadata": {},
   "source": [
    "It’s important to mention that the ``user_id`` column of the posts table is a foreign key that references the ``id`` column of the ``users`` table. This means that the ``user_id`` column must contain a value that already exists in the ``id`` column of the ``users`` table. If it doesn’t exist, then you’ll see an error.\n",
    "\n",
    "Now lets inserts records into the ``comments`` and ``likes`` tables:"
   ]
  },
  {
   "cell_type": "code",
   "execution_count": 35,
   "metadata": {},
   "outputs": [
    {
     "name": "stdout",
     "output_type": "stream",
     "text": [
      "Query executed successfully\n",
      "Query executed successfully\n"
     ]
    }
   ],
   "source": [
    "create_comments = \"\"\"\n",
    "INSERT INTO\n",
    "  comments (text, user_id, post_id)\n",
    "VALUES\n",
    "  ('Count me in', 1, 6),\n",
    "  ('What sort of help?', 5, 3),\n",
    "  ('Congrats buddy', 2, 4),\n",
    "  ('I was rooting for Nadal though', 4, 5),\n",
    "  ('Help with your thesis?', 2, 3),\n",
    "  ('Many congratulations', 5, 4);\n",
    "\"\"\"\n",
    "\n",
    "create_likes = \"\"\"\n",
    "INSERT INTO\n",
    "  likes (user_id, post_id)\n",
    "VALUES\n",
    "  (1, 6),\n",
    "  (2, 3),\n",
    "  (1, 5),\n",
    "  (5, 4),\n",
    "  (2, 4),\n",
    "  (4, 2),\n",
    "  (3, 6);\n",
    "\"\"\"\n",
    "\n",
    "execute_query(connection, create_comments)\n",
    "execute_query(connection, create_likes)  "
   ]
  },
  {
   "cell_type": "markdown",
   "metadata": {},
   "source": [
    "### Inserting Records using MySQL\n",
    "\n",
    "There are two ways to insert records into MySQL databases from a Python application. The first approach is similar to SQLite. You can store the ``INSERT INTO`` query in a string and then use ``cursor.execute()`` to insert records.\n",
    "\n",
    "Earlier, you defined a wrapper function ``execute_query()`` that you used to insert records. You can use this same function now to insert records into your MySQL table. \n",
    "\n",
    "The following script inserts records into the ``users`` table using ``execute_query()``:"
   ]
  },
  {
   "cell_type": "code",
   "execution_count": 45,
   "metadata": {},
   "outputs": [
    {
     "name": "stdout",
     "output_type": "stream",
     "text": [
      "Query executed successfully\n"
     ]
    }
   ],
   "source": [
    "create_users = \"\"\"\n",
    "INSERT INTO\n",
    "  `users` (`name`, `age`, `gender`, `nationality`)\n",
    "VALUES\n",
    "  ('James', 25, 'male', 'USA'),\n",
    "  ('Leila', 32, 'female', 'France'),\n",
    "  ('Brigitte', 35, 'female', 'England'),\n",
    "  ('Mike', 40, 'male', 'Denmark'),\n",
    "  ('Elizabeth', 21, 'female', 'Canada');\n",
    "\"\"\"\n",
    "\n",
    "execute_query(connection, create_users) "
   ]
  },
  {
   "cell_type": "markdown",
   "metadata": {},
   "source": [
    "The second approach uses ``cursor.executemany()``, which accepts two parameters:\n",
    "\n",
    "- The query string containing placeholders for the records to be inserted\n",
    "- The list of records that you want to insert\n",
    "\n",
    "Look at the following example, which inserts two records into the ``likes`` table:"
   ]
  },
  {
   "cell_type": "code",
   "execution_count": 46,
   "metadata": {},
   "outputs": [
    {
     "ename": "IntegrityError",
     "evalue": "1452 (23000): Cannot add or update a child row: a foreign key constraint fails (`my_app`.`likes`, CONSTRAINT `likes_ibfk_2` FOREIGN KEY (`post_id`) REFERENCES `posts` (`id`))",
     "output_type": "error",
     "traceback": [
      "\u001b[1;31m---------------------------------------------------------------------------\u001b[0m",
      "\u001b[1;31mMySQLInterfaceError\u001b[0m                       Traceback (most recent call last)",
      "\u001b[1;32m~\\anaconda3\\lib\\site-packages\\mysql\\connector\\connection_cext.py\u001b[0m in \u001b[0;36mcmd_query\u001b[1;34m(self, query, raw, buffered, raw_as_string)\u001b[0m\n\u001b[0;32m    503\u001b[0m                 \u001b[0mquery\u001b[0m \u001b[1;33m=\u001b[0m \u001b[0mquery\u001b[0m\u001b[1;33m.\u001b[0m\u001b[0mencode\u001b[0m\u001b[1;33m(\u001b[0m\u001b[1;34m'utf-8'\u001b[0m\u001b[1;33m)\u001b[0m\u001b[1;33m\u001b[0m\u001b[1;33m\u001b[0m\u001b[0m\n\u001b[1;32m--> 504\u001b[1;33m             self._cmysql.query(query,\n\u001b[0m\u001b[0;32m    505\u001b[0m                                \u001b[0mraw\u001b[0m\u001b[1;33m=\u001b[0m\u001b[0mraw\u001b[0m\u001b[1;33m,\u001b[0m \u001b[0mbuffered\u001b[0m\u001b[1;33m=\u001b[0m\u001b[0mbuffered\u001b[0m\u001b[1;33m,\u001b[0m\u001b[1;33m\u001b[0m\u001b[1;33m\u001b[0m\u001b[0m\n",
      "\u001b[1;31mMySQLInterfaceError\u001b[0m: Cannot add or update a child row: a foreign key constraint fails (`my_app`.`likes`, CONSTRAINT `likes_ibfk_2` FOREIGN KEY (`post_id`) REFERENCES `posts` (`id`))",
      "\nDuring handling of the above exception, another exception occurred:\n",
      "\u001b[1;31mIntegrityError\u001b[0m                            Traceback (most recent call last)",
      "\u001b[1;32m<ipython-input-46-1892115b024e>\u001b[0m in \u001b[0;36m<module>\u001b[1;34m\u001b[0m\n\u001b[0;32m      3\u001b[0m \u001b[1;33m\u001b[0m\u001b[0m\n\u001b[0;32m      4\u001b[0m \u001b[0mcursor\u001b[0m \u001b[1;33m=\u001b[0m \u001b[0mconnection\u001b[0m\u001b[1;33m.\u001b[0m\u001b[0mcursor\u001b[0m\u001b[1;33m(\u001b[0m\u001b[1;33m)\u001b[0m\u001b[1;33m\u001b[0m\u001b[1;33m\u001b[0m\u001b[0m\n\u001b[1;32m----> 5\u001b[1;33m \u001b[0mcursor\u001b[0m\u001b[1;33m.\u001b[0m\u001b[0mexecutemany\u001b[0m\u001b[1;33m(\u001b[0m\u001b[0msql\u001b[0m\u001b[1;33m,\u001b[0m \u001b[0mval\u001b[0m\u001b[1;33m)\u001b[0m\u001b[1;33m\u001b[0m\u001b[1;33m\u001b[0m\u001b[0m\n\u001b[0m\u001b[0;32m      6\u001b[0m \u001b[0mconnection\u001b[0m\u001b[1;33m.\u001b[0m\u001b[0mcommit\u001b[0m\u001b[1;33m(\u001b[0m\u001b[1;33m)\u001b[0m\u001b[1;33m\u001b[0m\u001b[1;33m\u001b[0m\u001b[0m\n",
      "\u001b[1;32m~\\anaconda3\\lib\\site-packages\\mysql\\connector\\cursor_cext.py\u001b[0m in \u001b[0;36mexecutemany\u001b[1;34m(self, operation, seq_params)\u001b[0m\n\u001b[0;32m    350\u001b[0m             \u001b[0mstmt\u001b[0m \u001b[1;33m=\u001b[0m \u001b[0mself\u001b[0m\u001b[1;33m.\u001b[0m\u001b[0m_batch_insert\u001b[0m\u001b[1;33m(\u001b[0m\u001b[0moperation\u001b[0m\u001b[1;33m,\u001b[0m \u001b[0mseq_params\u001b[0m\u001b[1;33m)\u001b[0m\u001b[1;33m\u001b[0m\u001b[1;33m\u001b[0m\u001b[0m\n\u001b[0;32m    351\u001b[0m             \u001b[1;32mif\u001b[0m \u001b[0mstmt\u001b[0m \u001b[1;32mis\u001b[0m \u001b[1;32mnot\u001b[0m \u001b[1;32mNone\u001b[0m\u001b[1;33m:\u001b[0m\u001b[1;33m\u001b[0m\u001b[1;33m\u001b[0m\u001b[0m\n\u001b[1;32m--> 352\u001b[1;33m                 \u001b[1;32mreturn\u001b[0m \u001b[0mself\u001b[0m\u001b[1;33m.\u001b[0m\u001b[0mexecute\u001b[0m\u001b[1;33m(\u001b[0m\u001b[0mstmt\u001b[0m\u001b[1;33m)\u001b[0m\u001b[1;33m\u001b[0m\u001b[1;33m\u001b[0m\u001b[0m\n\u001b[0m\u001b[0;32m    353\u001b[0m \u001b[1;33m\u001b[0m\u001b[0m\n\u001b[0;32m    354\u001b[0m         \u001b[0mrowcnt\u001b[0m \u001b[1;33m=\u001b[0m \u001b[1;36m0\u001b[0m\u001b[1;33m\u001b[0m\u001b[1;33m\u001b[0m\u001b[0m\n",
      "\u001b[1;32m~\\anaconda3\\lib\\site-packages\\mysql\\connector\\cursor_cext.py\u001b[0m in \u001b[0;36mexecute\u001b[1;34m(self, operation, params, multi)\u001b[0m\n\u001b[0;32m    262\u001b[0m \u001b[1;33m\u001b[0m\u001b[0m\n\u001b[0;32m    263\u001b[0m         \u001b[1;32mtry\u001b[0m\u001b[1;33m:\u001b[0m\u001b[1;33m\u001b[0m\u001b[1;33m\u001b[0m\u001b[0m\n\u001b[1;32m--> 264\u001b[1;33m             result = self._cnx.cmd_query(stmt, raw=self._raw,\n\u001b[0m\u001b[0;32m    265\u001b[0m                                          \u001b[0mbuffered\u001b[0m\u001b[1;33m=\u001b[0m\u001b[0mself\u001b[0m\u001b[1;33m.\u001b[0m\u001b[0m_buffered\u001b[0m\u001b[1;33m,\u001b[0m\u001b[1;33m\u001b[0m\u001b[1;33m\u001b[0m\u001b[0m\n\u001b[0;32m    266\u001b[0m                                          raw_as_string=self._raw_as_string)\n",
      "\u001b[1;32m~\\anaconda3\\lib\\site-packages\\mysql\\connector\\connection_cext.py\u001b[0m in \u001b[0;36mcmd_query\u001b[1;34m(self, query, raw, buffered, raw_as_string)\u001b[0m\n\u001b[0;32m    506\u001b[0m                                raw_as_string=raw_as_string)\n\u001b[0;32m    507\u001b[0m         \u001b[1;32mexcept\u001b[0m \u001b[0mMySQLInterfaceError\u001b[0m \u001b[1;32mas\u001b[0m \u001b[0mexc\u001b[0m\u001b[1;33m:\u001b[0m\u001b[1;33m\u001b[0m\u001b[1;33m\u001b[0m\u001b[0m\n\u001b[1;32m--> 508\u001b[1;33m             raise errors.get_mysql_exception(exc.errno, msg=exc.msg,\n\u001b[0m\u001b[0;32m    509\u001b[0m                                              sqlstate=exc.sqlstate)\n\u001b[0;32m    510\u001b[0m         \u001b[1;32mexcept\u001b[0m \u001b[0mAttributeError\u001b[0m\u001b[1;33m:\u001b[0m\u001b[1;33m\u001b[0m\u001b[1;33m\u001b[0m\u001b[0m\n",
      "\u001b[1;31mIntegrityError\u001b[0m: 1452 (23000): Cannot add or update a child row: a foreign key constraint fails (`my_app`.`likes`, CONSTRAINT `likes_ibfk_2` FOREIGN KEY (`post_id`) REFERENCES `posts` (`id`))"
     ]
    }
   ],
   "source": [
    "sql = \"INSERT INTO likes ( user_id, post_id ) VALUES ( %s, %s )\"\n",
    "val = [(4, 5), (3, 4)]\n",
    "\n",
    "cursor = connection.cursor()\n",
    "cursor.executemany(sql, val)\n",
    "connection.commit()\n"
   ]
  },
  {
   "cell_type": "markdown",
   "metadata": {},
   "source": [
    "Go ahead and make use of the existing data to complete adding records to the tables"
   ]
  },
  {
   "cell_type": "markdown",
   "metadata": {},
   "source": [
    "## Selecting records\n",
    "\n",
    "In this section, you’ll see how to select records from database tables using the different Python SQL modules. In particular, you’ll see how to perform ``SELECT`` queries on your SQLite and MySQL.\n"
   ]
  },
  {
   "cell_type": "markdown",
   "metadata": {},
   "source": [
    "### Selecting records using SQLite\n",
    "\n",
    "To select records using SQLite, you can again use ``cursor.execute()``. However, after you’ve done this, you’ll need to call ``.fetchall()``. This method returns a list of tuples where each tuple is mapped to the corresponding row in the retrieved records.\n",
    "\n",
    "To simplify the process, you can create a function ``execute_read_query()``:"
   ]
  },
  {
   "cell_type": "code",
   "execution_count": 37,
   "metadata": {},
   "outputs": [],
   "source": [
    "def execute_read_query(connection, query):\n",
    "    cursor = connection.cursor()\n",
    "    result = None\n",
    "    try:\n",
    "        cursor.execute(query)\n",
    "        result = cursor.fetchall()\n",
    "        return result\n",
    "    except Error as e:\n",
    "        print(f\"The error '{e}' occurred\")\n"
   ]
  },
  {
   "cell_type": "markdown",
   "metadata": {},
   "source": [
    "We will start off be creating a query for selecting all ``users`` from the ``users`` table. To do this we perform a ``SELECT`` query with the ``*`` which denotes all records, with a very large database this"
   ]
  },
  {
   "cell_type": "code",
   "execution_count": 40,
   "metadata": {},
   "outputs": [
    {
     "name": "stdout",
     "output_type": "stream",
     "text": [
      "(1, 'James', 25, 'male', 'USA')\n",
      "(2, 'Leila', 32, 'female', 'France')\n",
      "(3, 'Brigitte', 35, 'female', 'England')\n",
      "(4, 'Mike', 40, 'male', 'Denmark')\n",
      "(5, 'Elizabeth', 21, 'female', 'Canada')\n"
     ]
    }
   ],
   "source": [
    "select_users = \"SELECT * from users\"\n",
    "users = execute_read_query(connection, select_users)\n",
    "\n",
    "for user in users:\n",
    "    print(user)\n"
   ]
  },
  {
   "cell_type": "markdown",
   "metadata": {},
   "source": [
    "As you can see each record we addhas been given an auto-numbered private key starting with ``1``.\n",
    "\n",
    "Lets now run this with the ``posts`` table."
   ]
  },
  {
   "cell_type": "code",
   "execution_count": 41,
   "metadata": {},
   "outputs": [
    {
     "name": "stdout",
     "output_type": "stream",
     "text": [
      "(1, 'Happy', 'I am feeling very happy today', 1)\n",
      "(2, 'Hot Weather', 'The weather is very hot today', 2)\n",
      "(3, 'Help', 'I need some help with my work', 2)\n",
      "(4, 'Great News', 'I am getting married', 1)\n",
      "(5, 'Interesting Game', 'It was a fantastic game of tennis', 5)\n",
      "(6, 'Party', 'Anyone up for a late-night party today?', 3)\n"
     ]
    }
   ],
   "source": [
    "select_posts = \"SELECT * FROM posts\"\n",
    "posts = execute_read_query(connection, select_posts)\n",
    "\n",
    "for post in posts:\n",
    "    print(post)\n"
   ]
  },
  {
   "cell_type": "markdown",
   "metadata": {},
   "source": [
    "## JOIN\n",
    "\n",
    "We will now make use of the ``JOIN`` to join data from both the ``posts`` table and the ``users`` table. We will use the``SELECT`` query for ``users.id, users.name, posts.description``"
   ]
  },
  {
   "cell_type": "code",
   "execution_count": 42,
   "metadata": {},
   "outputs": [
    {
     "name": "stdout",
     "output_type": "stream",
     "text": [
      "(1, 'James', 'I am feeling very happy today')\n",
      "(2, 'Leila', 'The weather is very hot today')\n",
      "(2, 'Leila', 'I need some help with my work')\n",
      "(1, 'James', 'I am getting married')\n",
      "(5, 'Elizabeth', 'It was a fantastic game of tennis')\n",
      "(3, 'Brigitte', 'Anyone up for a late-night party today?')\n"
     ]
    }
   ],
   "source": [
    "select_users_posts = \"\"\"\n",
    "SELECT\n",
    "  users.id,\n",
    "  users.name,\n",
    "  posts.description\n",
    "FROM\n",
    "  posts\n",
    "  INNER JOIN users ON users.id = posts.user_id\n",
    "\"\"\"\n",
    "\n",
    "users_posts = execute_read_query(connection, select_users_posts)\n",
    "\n",
    "for users_post in users_posts:\n",
    "    print(users_post)\n"
   ]
  },
  {
   "cell_type": "markdown",
   "metadata": {},
   "source": [
    "## Multiple Join\n",
    "\n",
    "We can also select data from three related tables by implementing multiple ``JOIN`` operators."
   ]
  },
  {
   "cell_type": "code",
   "execution_count": 8,
   "metadata": {},
   "outputs": [
    {
     "name": "stdout",
     "output_type": "stream",
     "text": [
      "('Anyone up for a late-night party today?', 'Count me in', 'James')\n",
      "('I need some help with my work', 'What sort of help?', 'Elizabeth')\n",
      "('I am getting married', 'Congrats buddy', 'Leila')\n",
      "('It was a fantastic game of tennis', 'I was rooting for Nadal though', 'Mike')\n",
      "('I need some help with my work', 'Help with your thesis?', 'Leila')\n",
      "('I am getting married', 'Many congratulations', 'Elizabeth')\n"
     ]
    }
   ],
   "source": [
    "select_posts_comments_users = \"\"\"\n",
    "SELECT\n",
    "  posts.description as post,\n",
    "  text as comment,\n",
    "  name\n",
    "FROM\n",
    "  posts\n",
    "  INNER JOIN comments ON posts.id = comments.post_id\n",
    "  INNER JOIN users ON users.id = comments.user_id\n",
    "\"\"\"\n",
    "\n",
    "posts_comments_users = execute_read_query(\n",
    "    connection, select_posts_comments_users\n",
    ")\n",
    "\n",
    "for posts_comments_user in posts_comments_users:\n",
    "    print(posts_comments_user)\n"
   ]
  },
  {
   "cell_type": "markdown",
   "metadata": {},
   "source": [
    "## Where\n",
    "\n",
    "Now we will execute a ``SELECT`` query that returns the post, along with the total number of likes that the post received:"
   ]
  },
  {
   "cell_type": "code",
   "execution_count": 43,
   "metadata": {},
   "outputs": [
    {
     "name": "stdout",
     "output_type": "stream",
     "text": [
      "('The weather is very hot today', 1)\n",
      "('I need some help with my work', 1)\n",
      "('I am getting married', 2)\n",
      "('It was a fantastic game of tennis', 1)\n",
      "('Anyone up for a late-night party today?', 2)\n"
     ]
    }
   ],
   "source": [
    "select_post_likes = \"\"\"\n",
    "SELECT\n",
    "  description as Post,\n",
    "  COUNT(likes.id) as Likes\n",
    "FROM\n",
    "  likes,\n",
    "  posts\n",
    "WHERE\n",
    "  posts.id = likes.post_id\n",
    "GROUP BY\n",
    "  likes.post_id\n",
    "\"\"\"\n",
    "\n",
    "post_likes = execute_read_query(connection, select_post_likes)\n",
    "\n",
    "for post_like in post_likes:\n",
    "    print(post_like)\n"
   ]
  },
  {
   "cell_type": "markdown",
   "metadata": {},
   "source": [
    "## Selecting records with MySQL\n",
    "\n",
    "Selecting records with MySQL is the same as SQLite"
   ]
  },
  {
   "cell_type": "code",
   "execution_count": 51,
   "metadata": {},
   "outputs": [],
   "source": [
    "def execute_read_query(connection, query):\n",
    "    cursor = connection.cursor()\n",
    "    result = None\n",
    "    try:\n",
    "        cursor.execute(query)\n",
    "        result = cursor.fetchall()\n",
    "        return result\n",
    "    except Error as e:\n",
    "        print(f\"The error '{e}' occurred\")\n"
   ]
  },
  {
   "cell_type": "code",
   "execution_count": 52,
   "metadata": {},
   "outputs": [
    {
     "name": "stdout",
     "output_type": "stream",
     "text": [
      "(1, 'James', 25, 'male', 'USA')\n",
      "(2, 'Leila', 32, 'female', 'France')\n",
      "(3, 'Brigitte', 35, 'female', 'England')\n",
      "(4, 'Mike', 40, 'male', 'Denmark')\n",
      "(5, 'Elizabeth', 21, 'female', 'Canada')\n"
     ]
    }
   ],
   "source": [
    "select_users = \"SELECT * FROM users\"\n",
    "users = execute_read_query(connection, select_users)\n",
    "\n",
    "for user in users:\n",
    "    print(user)\n"
   ]
  },
  {
   "cell_type": "markdown",
   "metadata": {},
   "source": [
    "## Pandas\n"
   ]
  },
  {
   "cell_type": "code",
   "execution_count": 47,
   "metadata": {},
   "outputs": [],
   "source": [
    "data = {\n",
    "    'CHN': {'COUNTRY': 'China', 'POP': 1_398.72, 'AREA': 9_596.96,\n",
    "            'GDP': 12_234.78, 'CONT': 'Asia'},\n",
    "    'IND': {'COUNTRY': 'India', 'POP': 1_351.16, 'AREA': 3_287.26,\n",
    "            'GDP': 2_575.67, 'CONT': 'Asia', 'IND_DAY': '1947-08-15'},\n",
    "    'USA': {'COUNTRY': 'US', 'POP': 329.74, 'AREA': 9_833.52,\n",
    "            'GDP': 19_485.39, 'CONT': 'N.America',\n",
    "            'IND_DAY': '1776-07-04'},\n",
    "    'IDN': {'COUNTRY': 'Indonesia', 'POP': 268.07, 'AREA': 1_910.93,\n",
    "            'GDP': 1_015.54, 'CONT': 'Asia', 'IND_DAY': '1945-08-17'},\n",
    "    'BRA': {'COUNTRY': 'Brazil', 'POP': 210.32, 'AREA': 8_515.77,\n",
    "            'GDP': 2_055.51, 'CONT': 'S.America', 'IND_DAY': '1822-09-07'},\n",
    "    'PAK': {'COUNTRY': 'Pakistan', 'POP': 205.71, 'AREA': 881.91,\n",
    "            'GDP': 302.14, 'CONT': 'Asia', 'IND_DAY': '1947-08-14'},\n",
    "    'NGA': {'COUNTRY': 'Nigeria', 'POP': 200.96, 'AREA': 923.77,\n",
    "            'GDP': 375.77, 'CONT': 'Africa', 'IND_DAY': '1960-10-01'},\n",
    "    'BGD': {'COUNTRY': 'Bangladesh', 'POP': 167.09, 'AREA': 147.57,\n",
    "            'GDP': 245.63, 'CONT': 'Asia', 'IND_DAY': '1971-03-26'},\n",
    "    'RUS': {'COUNTRY': 'Russia', 'POP': 146.79, 'AREA': 17_098.25,\n",
    "            'GDP': 1_530.75, 'IND_DAY': '1992-06-12'},\n",
    "    'MEX': {'COUNTRY': 'Mexico', 'POP': 126.58, 'AREA': 1_964.38,\n",
    "            'GDP': 1_158.23, 'CONT': 'N.America', 'IND_DAY': '1810-09-16'},\n",
    "    'JPN': {'COUNTRY': 'Japan', 'POP': 126.22, 'AREA': 377.97,\n",
    "            'GDP': 4_872.42, 'CONT': 'Asia'},\n",
    "    'DEU': {'COUNTRY': 'Germany', 'POP': 83.02, 'AREA': 357.11,\n",
    "            'GDP': 3_693.20, 'CONT': 'Europe'},\n",
    "    'FRA': {'COUNTRY': 'France', 'POP': 67.02, 'AREA': 640.68,\n",
    "            'GDP': 2_582.49, 'CONT': 'Europe', 'IND_DAY': '1789-07-14'},\n",
    "    'GBR': {'COUNTRY': 'UK', 'POP': 66.44, 'AREA': 242.50,\n",
    "            'GDP': 2_631.23, 'CONT': 'Europe'},\n",
    "    'ITA': {'COUNTRY': 'Italy', 'POP': 60.36, 'AREA': 301.34,\n",
    "            'GDP': 1_943.84, 'CONT': 'Europe'},\n",
    "    'ARG': {'COUNTRY': 'Argentina', 'POP': 44.94, 'AREA': 2_780.40,\n",
    "            'GDP': 637.49, 'CONT': 'S.America', 'IND_DAY': '1816-07-09'},\n",
    "    'DZA': {'COUNTRY': 'Algeria', 'POP': 43.38, 'AREA': 2_381.74,\n",
    "            'GDP': 167.56, 'CONT': 'Africa', 'IND_DAY': '1962-07-05'},\n",
    "    'CAN': {'COUNTRY': 'Canada', 'POP': 37.59, 'AREA': 9_984.67,\n",
    "            'GDP': 1_647.12, 'CONT': 'N.America', 'IND_DAY': '1867-07-01'},\n",
    "    'AUS': {'COUNTRY': 'Australia', 'POP': 25.47, 'AREA': 7_692.02,\n",
    "            'GDP': 1_408.68, 'CONT': 'Oceania'},\n",
    "    'KAZ': {'COUNTRY': 'Kazakhstan', 'POP': 18.53, 'AREA': 2_724.90,\n",
    "            'GDP': 159.41, 'CONT': 'Asia', 'IND_DAY': '1991-12-16'}\n",
    "}\n",
    "\n",
    "columns = ('COUNTRY', 'POP', 'AREA', 'GDP', 'CONT', 'IND_DAY')\n"
   ]
  },
  {
   "cell_type": "code",
   "execution_count": 48,
   "metadata": {},
   "outputs": [],
   "source": [
    "import pandas as pd"
   ]
  },
  {
   "cell_type": "code",
   "execution_count": 49,
   "metadata": {},
   "outputs": [
    {
     "data": {
      "text/html": [
       "<div>\n",
       "<style scoped>\n",
       "    .dataframe tbody tr th:only-of-type {\n",
       "        vertical-align: middle;\n",
       "    }\n",
       "\n",
       "    .dataframe tbody tr th {\n",
       "        vertical-align: top;\n",
       "    }\n",
       "\n",
       "    .dataframe thead th {\n",
       "        text-align: right;\n",
       "    }\n",
       "</style>\n",
       "<table border=\"1\" class=\"dataframe\">\n",
       "  <thead>\n",
       "    <tr style=\"text-align: right;\">\n",
       "      <th></th>\n",
       "      <th>COUNTRY</th>\n",
       "      <th>POP</th>\n",
       "      <th>AREA</th>\n",
       "      <th>GDP</th>\n",
       "      <th>CONT</th>\n",
       "      <th>IND_DAY</th>\n",
       "    </tr>\n",
       "  </thead>\n",
       "  <tbody>\n",
       "    <tr>\n",
       "      <th>CHN</th>\n",
       "      <td>China</td>\n",
       "      <td>1398.72</td>\n",
       "      <td>9596.96</td>\n",
       "      <td>12234.8</td>\n",
       "      <td>Asia</td>\n",
       "      <td>NaN</td>\n",
       "    </tr>\n",
       "    <tr>\n",
       "      <th>IND</th>\n",
       "      <td>India</td>\n",
       "      <td>1351.16</td>\n",
       "      <td>3287.26</td>\n",
       "      <td>2575.67</td>\n",
       "      <td>Asia</td>\n",
       "      <td>1947-08-15</td>\n",
       "    </tr>\n",
       "    <tr>\n",
       "      <th>USA</th>\n",
       "      <td>US</td>\n",
       "      <td>329.74</td>\n",
       "      <td>9833.52</td>\n",
       "      <td>19485.4</td>\n",
       "      <td>N.America</td>\n",
       "      <td>1776-07-04</td>\n",
       "    </tr>\n",
       "    <tr>\n",
       "      <th>IDN</th>\n",
       "      <td>Indonesia</td>\n",
       "      <td>268.07</td>\n",
       "      <td>1910.93</td>\n",
       "      <td>1015.54</td>\n",
       "      <td>Asia</td>\n",
       "      <td>1945-08-17</td>\n",
       "    </tr>\n",
       "    <tr>\n",
       "      <th>BRA</th>\n",
       "      <td>Brazil</td>\n",
       "      <td>210.32</td>\n",
       "      <td>8515.77</td>\n",
       "      <td>2055.51</td>\n",
       "      <td>S.America</td>\n",
       "      <td>1822-09-07</td>\n",
       "    </tr>\n",
       "    <tr>\n",
       "      <th>PAK</th>\n",
       "      <td>Pakistan</td>\n",
       "      <td>205.71</td>\n",
       "      <td>881.91</td>\n",
       "      <td>302.14</td>\n",
       "      <td>Asia</td>\n",
       "      <td>1947-08-14</td>\n",
       "    </tr>\n",
       "    <tr>\n",
       "      <th>NGA</th>\n",
       "      <td>Nigeria</td>\n",
       "      <td>200.96</td>\n",
       "      <td>923.77</td>\n",
       "      <td>375.77</td>\n",
       "      <td>Africa</td>\n",
       "      <td>1960-10-01</td>\n",
       "    </tr>\n",
       "    <tr>\n",
       "      <th>BGD</th>\n",
       "      <td>Bangladesh</td>\n",
       "      <td>167.09</td>\n",
       "      <td>147.57</td>\n",
       "      <td>245.63</td>\n",
       "      <td>Asia</td>\n",
       "      <td>1971-03-26</td>\n",
       "    </tr>\n",
       "    <tr>\n",
       "      <th>RUS</th>\n",
       "      <td>Russia</td>\n",
       "      <td>146.79</td>\n",
       "      <td>17098.2</td>\n",
       "      <td>1530.75</td>\n",
       "      <td>NaN</td>\n",
       "      <td>1992-06-12</td>\n",
       "    </tr>\n",
       "    <tr>\n",
       "      <th>MEX</th>\n",
       "      <td>Mexico</td>\n",
       "      <td>126.58</td>\n",
       "      <td>1964.38</td>\n",
       "      <td>1158.23</td>\n",
       "      <td>N.America</td>\n",
       "      <td>1810-09-16</td>\n",
       "    </tr>\n",
       "    <tr>\n",
       "      <th>JPN</th>\n",
       "      <td>Japan</td>\n",
       "      <td>126.22</td>\n",
       "      <td>377.97</td>\n",
       "      <td>4872.42</td>\n",
       "      <td>Asia</td>\n",
       "      <td>NaN</td>\n",
       "    </tr>\n",
       "    <tr>\n",
       "      <th>DEU</th>\n",
       "      <td>Germany</td>\n",
       "      <td>83.02</td>\n",
       "      <td>357.11</td>\n",
       "      <td>3693.2</td>\n",
       "      <td>Europe</td>\n",
       "      <td>NaN</td>\n",
       "    </tr>\n",
       "    <tr>\n",
       "      <th>FRA</th>\n",
       "      <td>France</td>\n",
       "      <td>67.02</td>\n",
       "      <td>640.68</td>\n",
       "      <td>2582.49</td>\n",
       "      <td>Europe</td>\n",
       "      <td>1789-07-14</td>\n",
       "    </tr>\n",
       "    <tr>\n",
       "      <th>GBR</th>\n",
       "      <td>UK</td>\n",
       "      <td>66.44</td>\n",
       "      <td>242.5</td>\n",
       "      <td>2631.23</td>\n",
       "      <td>Europe</td>\n",
       "      <td>NaN</td>\n",
       "    </tr>\n",
       "    <tr>\n",
       "      <th>ITA</th>\n",
       "      <td>Italy</td>\n",
       "      <td>60.36</td>\n",
       "      <td>301.34</td>\n",
       "      <td>1943.84</td>\n",
       "      <td>Europe</td>\n",
       "      <td>NaN</td>\n",
       "    </tr>\n",
       "    <tr>\n",
       "      <th>ARG</th>\n",
       "      <td>Argentina</td>\n",
       "      <td>44.94</td>\n",
       "      <td>2780.4</td>\n",
       "      <td>637.49</td>\n",
       "      <td>S.America</td>\n",
       "      <td>1816-07-09</td>\n",
       "    </tr>\n",
       "    <tr>\n",
       "      <th>DZA</th>\n",
       "      <td>Algeria</td>\n",
       "      <td>43.38</td>\n",
       "      <td>2381.74</td>\n",
       "      <td>167.56</td>\n",
       "      <td>Africa</td>\n",
       "      <td>1962-07-05</td>\n",
       "    </tr>\n",
       "    <tr>\n",
       "      <th>CAN</th>\n",
       "      <td>Canada</td>\n",
       "      <td>37.59</td>\n",
       "      <td>9984.67</td>\n",
       "      <td>1647.12</td>\n",
       "      <td>N.America</td>\n",
       "      <td>1867-07-01</td>\n",
       "    </tr>\n",
       "    <tr>\n",
       "      <th>AUS</th>\n",
       "      <td>Australia</td>\n",
       "      <td>25.47</td>\n",
       "      <td>7692.02</td>\n",
       "      <td>1408.68</td>\n",
       "      <td>Oceania</td>\n",
       "      <td>NaN</td>\n",
       "    </tr>\n",
       "    <tr>\n",
       "      <th>KAZ</th>\n",
       "      <td>Kazakhstan</td>\n",
       "      <td>18.53</td>\n",
       "      <td>2724.9</td>\n",
       "      <td>159.41</td>\n",
       "      <td>Asia</td>\n",
       "      <td>1991-12-16</td>\n",
       "    </tr>\n",
       "  </tbody>\n",
       "</table>\n",
       "</div>"
      ],
      "text/plain": [
       "        COUNTRY      POP     AREA      GDP       CONT     IND_DAY\n",
       "CHN       China  1398.72  9596.96  12234.8       Asia         NaN\n",
       "IND       India  1351.16  3287.26  2575.67       Asia  1947-08-15\n",
       "USA          US   329.74  9833.52  19485.4  N.America  1776-07-04\n",
       "IDN   Indonesia   268.07  1910.93  1015.54       Asia  1945-08-17\n",
       "BRA      Brazil   210.32  8515.77  2055.51  S.America  1822-09-07\n",
       "PAK    Pakistan   205.71   881.91   302.14       Asia  1947-08-14\n",
       "NGA     Nigeria   200.96   923.77   375.77     Africa  1960-10-01\n",
       "BGD  Bangladesh   167.09   147.57   245.63       Asia  1971-03-26\n",
       "RUS      Russia   146.79  17098.2  1530.75        NaN  1992-06-12\n",
       "MEX      Mexico   126.58  1964.38  1158.23  N.America  1810-09-16\n",
       "JPN       Japan   126.22   377.97  4872.42       Asia         NaN\n",
       "DEU     Germany    83.02   357.11   3693.2     Europe         NaN\n",
       "FRA      France    67.02   640.68  2582.49     Europe  1789-07-14\n",
       "GBR          UK    66.44    242.5  2631.23     Europe         NaN\n",
       "ITA       Italy    60.36   301.34  1943.84     Europe         NaN\n",
       "ARG   Argentina    44.94   2780.4   637.49  S.America  1816-07-09\n",
       "DZA     Algeria    43.38  2381.74   167.56     Africa  1962-07-05\n",
       "CAN      Canada    37.59  9984.67  1647.12  N.America  1867-07-01\n",
       "AUS   Australia    25.47  7692.02  1408.68    Oceania         NaN\n",
       "KAZ  Kazakhstan    18.53   2724.9   159.41       Asia  1991-12-16"
      ]
     },
     "execution_count": 49,
     "metadata": {},
     "output_type": "execute_result"
    }
   ],
   "source": [
    "df = pd.DataFrame(data=data).T\n",
    "df"
   ]
  },
  {
   "cell_type": "markdown",
   "metadata": {},
   "source": [
    "Writing to a CSV file"
   ]
  },
  {
   "cell_type": "code",
   "execution_count": 50,
   "metadata": {},
   "outputs": [],
   "source": [
    "df.to_csv('new_data.csv')"
   ]
  },
  {
   "cell_type": "markdown",
   "metadata": {},
   "source": [
    "Reading from a CSV file"
   ]
  },
  {
   "cell_type": "code",
   "execution_count": 53,
   "metadata": {},
   "outputs": [
    {
     "data": {
      "text/html": [
       "<div>\n",
       "<style scoped>\n",
       "    .dataframe tbody tr th:only-of-type {\n",
       "        vertical-align: middle;\n",
       "    }\n",
       "\n",
       "    .dataframe tbody tr th {\n",
       "        vertical-align: top;\n",
       "    }\n",
       "\n",
       "    .dataframe thead th {\n",
       "        text-align: right;\n",
       "    }\n",
       "</style>\n",
       "<table border=\"1\" class=\"dataframe\">\n",
       "  <thead>\n",
       "    <tr style=\"text-align: right;\">\n",
       "      <th></th>\n",
       "      <th>COUNTRY</th>\n",
       "      <th>POP</th>\n",
       "      <th>AREA</th>\n",
       "      <th>GDP</th>\n",
       "      <th>CONT</th>\n",
       "      <th>IND_DAY</th>\n",
       "    </tr>\n",
       "  </thead>\n",
       "  <tbody>\n",
       "    <tr>\n",
       "      <th>CHN</th>\n",
       "      <td>China</td>\n",
       "      <td>1398.72</td>\n",
       "      <td>9596.96</td>\n",
       "      <td>12234.78</td>\n",
       "      <td>Asia</td>\n",
       "      <td>NaN</td>\n",
       "    </tr>\n",
       "    <tr>\n",
       "      <th>IND</th>\n",
       "      <td>India</td>\n",
       "      <td>1351.16</td>\n",
       "      <td>3287.26</td>\n",
       "      <td>2575.67</td>\n",
       "      <td>Asia</td>\n",
       "      <td>1947-08-15</td>\n",
       "    </tr>\n",
       "    <tr>\n",
       "      <th>USA</th>\n",
       "      <td>US</td>\n",
       "      <td>329.74</td>\n",
       "      <td>9833.52</td>\n",
       "      <td>19485.39</td>\n",
       "      <td>N.America</td>\n",
       "      <td>1776-07-04</td>\n",
       "    </tr>\n",
       "    <tr>\n",
       "      <th>IDN</th>\n",
       "      <td>Indonesia</td>\n",
       "      <td>268.07</td>\n",
       "      <td>1910.93</td>\n",
       "      <td>1015.54</td>\n",
       "      <td>Asia</td>\n",
       "      <td>1945-08-17</td>\n",
       "    </tr>\n",
       "    <tr>\n",
       "      <th>BRA</th>\n",
       "      <td>Brazil</td>\n",
       "      <td>210.32</td>\n",
       "      <td>8515.77</td>\n",
       "      <td>2055.51</td>\n",
       "      <td>S.America</td>\n",
       "      <td>1822-09-07</td>\n",
       "    </tr>\n",
       "    <tr>\n",
       "      <th>PAK</th>\n",
       "      <td>Pakistan</td>\n",
       "      <td>205.71</td>\n",
       "      <td>881.91</td>\n",
       "      <td>302.14</td>\n",
       "      <td>Asia</td>\n",
       "      <td>1947-08-14</td>\n",
       "    </tr>\n",
       "    <tr>\n",
       "      <th>NGA</th>\n",
       "      <td>Nigeria</td>\n",
       "      <td>200.96</td>\n",
       "      <td>923.77</td>\n",
       "      <td>375.77</td>\n",
       "      <td>Africa</td>\n",
       "      <td>1960-10-01</td>\n",
       "    </tr>\n",
       "    <tr>\n",
       "      <th>BGD</th>\n",
       "      <td>Bangladesh</td>\n",
       "      <td>167.09</td>\n",
       "      <td>147.57</td>\n",
       "      <td>245.63</td>\n",
       "      <td>Asia</td>\n",
       "      <td>1971-03-26</td>\n",
       "    </tr>\n",
       "    <tr>\n",
       "      <th>RUS</th>\n",
       "      <td>Russia</td>\n",
       "      <td>146.79</td>\n",
       "      <td>17098.25</td>\n",
       "      <td>1530.75</td>\n",
       "      <td>NaN</td>\n",
       "      <td>1992-06-12</td>\n",
       "    </tr>\n",
       "    <tr>\n",
       "      <th>MEX</th>\n",
       "      <td>Mexico</td>\n",
       "      <td>126.58</td>\n",
       "      <td>1964.38</td>\n",
       "      <td>1158.23</td>\n",
       "      <td>N.America</td>\n",
       "      <td>1810-09-16</td>\n",
       "    </tr>\n",
       "    <tr>\n",
       "      <th>JPN</th>\n",
       "      <td>Japan</td>\n",
       "      <td>126.22</td>\n",
       "      <td>377.97</td>\n",
       "      <td>4872.42</td>\n",
       "      <td>Asia</td>\n",
       "      <td>NaN</td>\n",
       "    </tr>\n",
       "    <tr>\n",
       "      <th>DEU</th>\n",
       "      <td>Germany</td>\n",
       "      <td>83.02</td>\n",
       "      <td>357.11</td>\n",
       "      <td>3693.20</td>\n",
       "      <td>Europe</td>\n",
       "      <td>NaN</td>\n",
       "    </tr>\n",
       "    <tr>\n",
       "      <th>FRA</th>\n",
       "      <td>France</td>\n",
       "      <td>67.02</td>\n",
       "      <td>640.68</td>\n",
       "      <td>2582.49</td>\n",
       "      <td>Europe</td>\n",
       "      <td>1789-07-14</td>\n",
       "    </tr>\n",
       "    <tr>\n",
       "      <th>GBR</th>\n",
       "      <td>UK</td>\n",
       "      <td>66.44</td>\n",
       "      <td>242.50</td>\n",
       "      <td>2631.23</td>\n",
       "      <td>Europe</td>\n",
       "      <td>NaN</td>\n",
       "    </tr>\n",
       "    <tr>\n",
       "      <th>ITA</th>\n",
       "      <td>Italy</td>\n",
       "      <td>60.36</td>\n",
       "      <td>301.34</td>\n",
       "      <td>1943.84</td>\n",
       "      <td>Europe</td>\n",
       "      <td>NaN</td>\n",
       "    </tr>\n",
       "    <tr>\n",
       "      <th>ARG</th>\n",
       "      <td>Argentina</td>\n",
       "      <td>44.94</td>\n",
       "      <td>2780.40</td>\n",
       "      <td>637.49</td>\n",
       "      <td>S.America</td>\n",
       "      <td>1816-07-09</td>\n",
       "    </tr>\n",
       "    <tr>\n",
       "      <th>DZA</th>\n",
       "      <td>Algeria</td>\n",
       "      <td>43.38</td>\n",
       "      <td>2381.74</td>\n",
       "      <td>167.56</td>\n",
       "      <td>Africa</td>\n",
       "      <td>1962-07-05</td>\n",
       "    </tr>\n",
       "    <tr>\n",
       "      <th>CAN</th>\n",
       "      <td>Canada</td>\n",
       "      <td>37.59</td>\n",
       "      <td>9984.67</td>\n",
       "      <td>1647.12</td>\n",
       "      <td>N.America</td>\n",
       "      <td>1867-07-01</td>\n",
       "    </tr>\n",
       "    <tr>\n",
       "      <th>AUS</th>\n",
       "      <td>Australia</td>\n",
       "      <td>25.47</td>\n",
       "      <td>7692.02</td>\n",
       "      <td>1408.68</td>\n",
       "      <td>Oceania</td>\n",
       "      <td>NaN</td>\n",
       "    </tr>\n",
       "    <tr>\n",
       "      <th>KAZ</th>\n",
       "      <td>Kazakhstan</td>\n",
       "      <td>18.53</td>\n",
       "      <td>2724.90</td>\n",
       "      <td>159.41</td>\n",
       "      <td>Asia</td>\n",
       "      <td>1991-12-16</td>\n",
       "    </tr>\n",
       "  </tbody>\n",
       "</table>\n",
       "</div>"
      ],
      "text/plain": [
       "        COUNTRY      POP      AREA       GDP       CONT     IND_DAY\n",
       "CHN       China  1398.72   9596.96  12234.78       Asia         NaN\n",
       "IND       India  1351.16   3287.26   2575.67       Asia  1947-08-15\n",
       "USA          US   329.74   9833.52  19485.39  N.America  1776-07-04\n",
       "IDN   Indonesia   268.07   1910.93   1015.54       Asia  1945-08-17\n",
       "BRA      Brazil   210.32   8515.77   2055.51  S.America  1822-09-07\n",
       "PAK    Pakistan   205.71    881.91    302.14       Asia  1947-08-14\n",
       "NGA     Nigeria   200.96    923.77    375.77     Africa  1960-10-01\n",
       "BGD  Bangladesh   167.09    147.57    245.63       Asia  1971-03-26\n",
       "RUS      Russia   146.79  17098.25   1530.75        NaN  1992-06-12\n",
       "MEX      Mexico   126.58   1964.38   1158.23  N.America  1810-09-16\n",
       "JPN       Japan   126.22    377.97   4872.42       Asia         NaN\n",
       "DEU     Germany    83.02    357.11   3693.20     Europe         NaN\n",
       "FRA      France    67.02    640.68   2582.49     Europe  1789-07-14\n",
       "GBR          UK    66.44    242.50   2631.23     Europe         NaN\n",
       "ITA       Italy    60.36    301.34   1943.84     Europe         NaN\n",
       "ARG   Argentina    44.94   2780.40    637.49  S.America  1816-07-09\n",
       "DZA     Algeria    43.38   2381.74    167.56     Africa  1962-07-05\n",
       "CAN      Canada    37.59   9984.67   1647.12  N.America  1867-07-01\n",
       "AUS   Australia    25.47   7692.02   1408.68    Oceania         NaN\n",
       "KAZ  Kazakhstan    18.53   2724.90    159.41       Asia  1991-12-16"
      ]
     },
     "execution_count": 53,
     "metadata": {},
     "output_type": "execute_result"
    }
   ],
   "source": [
    "df = pd.read_csv('new_data.csv', index_col=0)\n",
    "df"
   ]
  },
  {
   "cell_type": "markdown",
   "metadata": {},
   "source": [
    "## Using Pandas to Write and Read Excel Files\n",
    "\n",
    "Microsoft Excel is probably the most widely-used spreadsheet software. While older versions used binary .xls files, Excel 2007 introduced the new XML-based .xlsx file. You can read and write Excel files in Pandas, similar to CSV files. However, you’ll need to install the following Python packages first:\n",
    "\n",
    "- xlwt to write to .xls files\n",
    "- openpyxl or XlsxWriter to write to .xlsx files\n",
    "- xlrd to read Excel files\n",
    "\n",
    "``pip install xlwt openpyxl xlsxwriter xlrd``\n",
    "\n",
    "Note that you don’t have to install all these packages. For example, you don’t need both ``openpyxl`` and ``XlsxWriter``. If you’re going to work just with .xls files, then you don’t need any of them! However, if you intend to work only with .xlsx files, then you’re going to need at least one of them, but not ``xlwt``. Take some time to decide which packages are right for your project.\n",
    "\n",
    "## Writing to and Excel file format\n",
    "\n",
    "Writing an .xlsx is straightforward using the ``.to_excel()`` method."
   ]
  },
  {
   "cell_type": "code",
   "execution_count": 54,
   "metadata": {},
   "outputs": [],
   "source": [
    "df.to_excel('Istvan_data.xlsx')"
   ]
  },
  {
   "cell_type": "markdown",
   "metadata": {},
   "source": [
    "### Read an Excel File\n",
    "\n",
    "You can load data from Excel files with the ``read_excel()`` method:"
   ]
  },
  {
   "cell_type": "code",
   "execution_count": 55,
   "metadata": {},
   "outputs": [
    {
     "name": "stdout",
     "output_type": "stream",
     "text": [
      "   Unnamed: 0     COUNTRY      POP      AREA       GDP       CONT     IND_DAY\n",
      "0         CHN       China  1398.72   9596.96  12234.78       Asia         NaN\n",
      "1         IND       India  1351.16   3287.26   2575.67       Asia  1947-08-15\n",
      "2         USA          US   329.74   9833.52  19485.39  N.America  1776-07-04\n",
      "3         IDN   Indonesia   268.07   1910.93   1015.54       Asia  1945-08-17\n",
      "4         BRA      Brazil   210.32   8515.77   2055.51  S.America  1822-09-07\n",
      "5         PAK    Pakistan   205.71    881.91    302.14       Asia  1947-08-14\n",
      "6         NGA     Nigeria   200.96    923.77    375.77     Africa  1960-10-01\n",
      "7         BGD  Bangladesh   167.09    147.57    245.63       Asia  1971-03-26\n",
      "8         RUS      Russia   146.79  17098.25   1530.75        NaN  1992-06-12\n",
      "9         MEX      Mexico   126.58   1964.38   1158.23  N.America  1810-09-16\n",
      "10        JPN       Japan   126.22    377.97   4872.42       Asia         NaN\n",
      "11        DEU     Germany    83.02    357.11   3693.20     Europe         NaN\n",
      "12        FRA      France    67.02    640.68   2582.49     Europe  1789-07-14\n",
      "13        GBR          UK    66.44    242.50   2631.23     Europe         NaN\n",
      "14        ITA       Italy    60.36    301.34   1943.84     Europe         NaN\n",
      "15        ARG   Argentina    44.94   2780.40    637.49  S.America  1816-07-09\n",
      "16        DZA     Algeria    43.38   2381.74    167.56     Africa  1962-07-05\n",
      "17        CAN      Canada    37.59   9984.67   1647.12  N.America  1867-07-01\n",
      "18        AUS   Australia    25.47   7692.02   1408.68    Oceania         NaN\n",
      "19        KAZ  Kazakhstan    18.53   2724.90    159.41       Asia  1991-12-16\n"
     ]
    }
   ],
   "source": [
    "import pandas as pd\n",
    "import openpyxl\n",
    "#df = pd.read_excel('data.xlsx', index_col=0)\n",
    "#print(df)\n",
    "\n",
    "ff=pd.read_excel(\"Istvan_data.xlsx\", engine='openpyxl')\n",
    "print(ff)"
   ]
  },
  {
   "cell_type": "markdown",
   "metadata": {},
   "source": [
    "## Writing Pandas dataframe to an SQLite database\n",
    "\n",
    "If you do not have it installed install ``pip install sqlalchemy``.\n",
    "\n",
    "We will start of by importing the ``create_engine`` from ``sqlalchemy``. We then will create our database engine.\n",
    "\n",
    "The syntax format for the ``create_engine()``:\n",
    "\n",
    "**Unix/Mac** - 3 initial slashes in total\n",
    "engine = create_engine('sqlite:///relative_path/foo.db')\n",
    "\n",
    "**Unix/Mac** - 4 initial slashes in total\n",
    "engine = create_engine('sqlite:////absolute/path/to/foo.db')\n",
    "\n",
    "**Windows**\n",
    "engine = create_engine('sqlite:///C:\\\\path\\\\to\\\\foo.db')\n",
    "\n",
    "We will create a new database called ``new_data.db``.\n"
   ]
  },
  {
   "cell_type": "code",
   "execution_count": 56,
   "metadata": {},
   "outputs": [],
   "source": [
    "from sqlalchemy import create_engine\n",
    "engine = create_engine('sqlite:///istvan_data.db', echo=False)"
   ]
  },
  {
   "cell_type": "markdown",
   "metadata": {},
   "source": [
    "Next we will setup our datatypes for the data that will be uploaded to our database"
   ]
  },
  {
   "cell_type": "code",
   "execution_count": 58,
   "metadata": {},
   "outputs": [
    {
     "data": {
      "text/plain": [
       "COUNTRY            object\n",
       "POP               float64\n",
       "AREA              float64\n",
       "GDP               float64\n",
       "CONT               object\n",
       "IND_DAY    datetime64[ns]\n",
       "dtype: object"
      ]
     },
     "execution_count": 58,
     "metadata": {},
     "output_type": "execute_result"
    }
   ],
   "source": [
    "dtypes = {'POP': 'float64', 'AREA': 'float64', 'GDP': 'float64', 'IND_DAY': 'datetime64'}\n",
    "df = pd.DataFrame(data=data).T.astype(dtype=dtypes)\n",
    "df.dtypes"
   ]
  },
  {
   "cell_type": "markdown",
   "metadata": {},
   "source": [
    "Next we will right our dataframe to our SQLite database using the ``.to_sql()`` method."
   ]
  },
  {
   "cell_type": "code",
   "execution_count": 59,
   "metadata": {},
   "outputs": [],
   "source": [
    "df.to_sql('istvan_data.db', con=engine, index_label='ID')"
   ]
  },
  {
   "cell_type": "markdown",
   "metadata": {},
   "source": [
    "To read from this database we just call the ``.read_sql()`` method."
   ]
  },
  {
   "cell_type": "code",
   "execution_count": 61,
   "metadata": {},
   "outputs": [
    {
     "data": {
      "text/html": [
       "<div>\n",
       "<style scoped>\n",
       "    .dataframe tbody tr th:only-of-type {\n",
       "        vertical-align: middle;\n",
       "    }\n",
       "\n",
       "    .dataframe tbody tr th {\n",
       "        vertical-align: top;\n",
       "    }\n",
       "\n",
       "    .dataframe thead th {\n",
       "        text-align: right;\n",
       "    }\n",
       "</style>\n",
       "<table border=\"1\" class=\"dataframe\">\n",
       "  <thead>\n",
       "    <tr style=\"text-align: right;\">\n",
       "      <th></th>\n",
       "      <th>COUNTRY</th>\n",
       "      <th>POP</th>\n",
       "      <th>AREA</th>\n",
       "      <th>GDP</th>\n",
       "      <th>CONT</th>\n",
       "      <th>IND_DAY</th>\n",
       "    </tr>\n",
       "    <tr>\n",
       "      <th>ID</th>\n",
       "      <th></th>\n",
       "      <th></th>\n",
       "      <th></th>\n",
       "      <th></th>\n",
       "      <th></th>\n",
       "      <th></th>\n",
       "    </tr>\n",
       "  </thead>\n",
       "  <tbody>\n",
       "    <tr>\n",
       "      <th>CHN</th>\n",
       "      <td>China</td>\n",
       "      <td>1398.72</td>\n",
       "      <td>9596.96</td>\n",
       "      <td>12234.78</td>\n",
       "      <td>Asia</td>\n",
       "      <td>NaT</td>\n",
       "    </tr>\n",
       "    <tr>\n",
       "      <th>IND</th>\n",
       "      <td>India</td>\n",
       "      <td>1351.16</td>\n",
       "      <td>3287.26</td>\n",
       "      <td>2575.67</td>\n",
       "      <td>Asia</td>\n",
       "      <td>1947-08-15</td>\n",
       "    </tr>\n",
       "    <tr>\n",
       "      <th>USA</th>\n",
       "      <td>US</td>\n",
       "      <td>329.74</td>\n",
       "      <td>9833.52</td>\n",
       "      <td>19485.39</td>\n",
       "      <td>N.America</td>\n",
       "      <td>1776-07-04</td>\n",
       "    </tr>\n",
       "    <tr>\n",
       "      <th>IDN</th>\n",
       "      <td>Indonesia</td>\n",
       "      <td>268.07</td>\n",
       "      <td>1910.93</td>\n",
       "      <td>1015.54</td>\n",
       "      <td>Asia</td>\n",
       "      <td>1945-08-17</td>\n",
       "    </tr>\n",
       "    <tr>\n",
       "      <th>BRA</th>\n",
       "      <td>Brazil</td>\n",
       "      <td>210.32</td>\n",
       "      <td>8515.77</td>\n",
       "      <td>2055.51</td>\n",
       "      <td>S.America</td>\n",
       "      <td>1822-09-07</td>\n",
       "    </tr>\n",
       "    <tr>\n",
       "      <th>PAK</th>\n",
       "      <td>Pakistan</td>\n",
       "      <td>205.71</td>\n",
       "      <td>881.91</td>\n",
       "      <td>302.14</td>\n",
       "      <td>Asia</td>\n",
       "      <td>1947-08-14</td>\n",
       "    </tr>\n",
       "    <tr>\n",
       "      <th>NGA</th>\n",
       "      <td>Nigeria</td>\n",
       "      <td>200.96</td>\n",
       "      <td>923.77</td>\n",
       "      <td>375.77</td>\n",
       "      <td>Africa</td>\n",
       "      <td>1960-10-01</td>\n",
       "    </tr>\n",
       "    <tr>\n",
       "      <th>BGD</th>\n",
       "      <td>Bangladesh</td>\n",
       "      <td>167.09</td>\n",
       "      <td>147.57</td>\n",
       "      <td>245.63</td>\n",
       "      <td>Asia</td>\n",
       "      <td>1971-03-26</td>\n",
       "    </tr>\n",
       "    <tr>\n",
       "      <th>RUS</th>\n",
       "      <td>Russia</td>\n",
       "      <td>146.79</td>\n",
       "      <td>17098.25</td>\n",
       "      <td>1530.75</td>\n",
       "      <td>None</td>\n",
       "      <td>1992-06-12</td>\n",
       "    </tr>\n",
       "    <tr>\n",
       "      <th>MEX</th>\n",
       "      <td>Mexico</td>\n",
       "      <td>126.58</td>\n",
       "      <td>1964.38</td>\n",
       "      <td>1158.23</td>\n",
       "      <td>N.America</td>\n",
       "      <td>1810-09-16</td>\n",
       "    </tr>\n",
       "    <tr>\n",
       "      <th>JPN</th>\n",
       "      <td>Japan</td>\n",
       "      <td>126.22</td>\n",
       "      <td>377.97</td>\n",
       "      <td>4872.42</td>\n",
       "      <td>Asia</td>\n",
       "      <td>NaT</td>\n",
       "    </tr>\n",
       "    <tr>\n",
       "      <th>DEU</th>\n",
       "      <td>Germany</td>\n",
       "      <td>83.02</td>\n",
       "      <td>357.11</td>\n",
       "      <td>3693.20</td>\n",
       "      <td>Europe</td>\n",
       "      <td>NaT</td>\n",
       "    </tr>\n",
       "    <tr>\n",
       "      <th>FRA</th>\n",
       "      <td>France</td>\n",
       "      <td>67.02</td>\n",
       "      <td>640.68</td>\n",
       "      <td>2582.49</td>\n",
       "      <td>Europe</td>\n",
       "      <td>1789-07-14</td>\n",
       "    </tr>\n",
       "    <tr>\n",
       "      <th>GBR</th>\n",
       "      <td>UK</td>\n",
       "      <td>66.44</td>\n",
       "      <td>242.50</td>\n",
       "      <td>2631.23</td>\n",
       "      <td>Europe</td>\n",
       "      <td>NaT</td>\n",
       "    </tr>\n",
       "    <tr>\n",
       "      <th>ITA</th>\n",
       "      <td>Italy</td>\n",
       "      <td>60.36</td>\n",
       "      <td>301.34</td>\n",
       "      <td>1943.84</td>\n",
       "      <td>Europe</td>\n",
       "      <td>NaT</td>\n",
       "    </tr>\n",
       "    <tr>\n",
       "      <th>ARG</th>\n",
       "      <td>Argentina</td>\n",
       "      <td>44.94</td>\n",
       "      <td>2780.40</td>\n",
       "      <td>637.49</td>\n",
       "      <td>S.America</td>\n",
       "      <td>1816-07-09</td>\n",
       "    </tr>\n",
       "    <tr>\n",
       "      <th>DZA</th>\n",
       "      <td>Algeria</td>\n",
       "      <td>43.38</td>\n",
       "      <td>2381.74</td>\n",
       "      <td>167.56</td>\n",
       "      <td>Africa</td>\n",
       "      <td>1962-07-05</td>\n",
       "    </tr>\n",
       "    <tr>\n",
       "      <th>CAN</th>\n",
       "      <td>Canada</td>\n",
       "      <td>37.59</td>\n",
       "      <td>9984.67</td>\n",
       "      <td>1647.12</td>\n",
       "      <td>N.America</td>\n",
       "      <td>1867-07-01</td>\n",
       "    </tr>\n",
       "    <tr>\n",
       "      <th>AUS</th>\n",
       "      <td>Australia</td>\n",
       "      <td>25.47</td>\n",
       "      <td>7692.02</td>\n",
       "      <td>1408.68</td>\n",
       "      <td>Oceania</td>\n",
       "      <td>NaT</td>\n",
       "    </tr>\n",
       "    <tr>\n",
       "      <th>KAZ</th>\n",
       "      <td>Kazakhstan</td>\n",
       "      <td>18.53</td>\n",
       "      <td>2724.90</td>\n",
       "      <td>159.41</td>\n",
       "      <td>Asia</td>\n",
       "      <td>1991-12-16</td>\n",
       "    </tr>\n",
       "  </tbody>\n",
       "</table>\n",
       "</div>"
      ],
      "text/plain": [
       "        COUNTRY      POP      AREA       GDP       CONT    IND_DAY\n",
       "ID                                                                \n",
       "CHN       China  1398.72   9596.96  12234.78       Asia        NaT\n",
       "IND       India  1351.16   3287.26   2575.67       Asia 1947-08-15\n",
       "USA          US   329.74   9833.52  19485.39  N.America 1776-07-04\n",
       "IDN   Indonesia   268.07   1910.93   1015.54       Asia 1945-08-17\n",
       "BRA      Brazil   210.32   8515.77   2055.51  S.America 1822-09-07\n",
       "PAK    Pakistan   205.71    881.91    302.14       Asia 1947-08-14\n",
       "NGA     Nigeria   200.96    923.77    375.77     Africa 1960-10-01\n",
       "BGD  Bangladesh   167.09    147.57    245.63       Asia 1971-03-26\n",
       "RUS      Russia   146.79  17098.25   1530.75       None 1992-06-12\n",
       "MEX      Mexico   126.58   1964.38   1158.23  N.America 1810-09-16\n",
       "JPN       Japan   126.22    377.97   4872.42       Asia        NaT\n",
       "DEU     Germany    83.02    357.11   3693.20     Europe        NaT\n",
       "FRA      France    67.02    640.68   2582.49     Europe 1789-07-14\n",
       "GBR          UK    66.44    242.50   2631.23     Europe        NaT\n",
       "ITA       Italy    60.36    301.34   1943.84     Europe        NaT\n",
       "ARG   Argentina    44.94   2780.40    637.49  S.America 1816-07-09\n",
       "DZA     Algeria    43.38   2381.74    167.56     Africa 1962-07-05\n",
       "CAN      Canada    37.59   9984.67   1647.12  N.America 1867-07-01\n",
       "AUS   Australia    25.47   7692.02   1408.68    Oceania        NaT\n",
       "KAZ  Kazakhstan    18.53   2724.90    159.41       Asia 1991-12-16"
      ]
     },
     "execution_count": 61,
     "metadata": {},
     "output_type": "execute_result"
    }
   ],
   "source": [
    "df = pd.read_sql('istvan_data.db', con=engine, index_col='ID')\n",
    "df"
   ]
  },
  {
   "cell_type": "code",
   "execution_count": null,
   "metadata": {},
   "outputs": [],
   "source": []
  }
 ],
 "metadata": {
  "kernelspec": {
   "display_name": "Python 3",
   "language": "python",
   "name": "python3"
  },
  "language_info": {
   "codemirror_mode": {
    "name": "ipython",
    "version": 3
   },
   "file_extension": ".py",
   "mimetype": "text/x-python",
   "name": "python",
   "nbconvert_exporter": "python",
   "pygments_lexer": "ipython3",
   "version": "3.8.3"
  }
 },
 "nbformat": 4,
 "nbformat_minor": 4
}
