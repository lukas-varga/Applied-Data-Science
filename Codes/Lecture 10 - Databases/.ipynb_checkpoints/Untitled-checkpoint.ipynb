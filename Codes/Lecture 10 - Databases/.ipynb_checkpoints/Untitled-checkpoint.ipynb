{
 "cells": [
  {
   "cell_type": "markdown",
   "metadata": {},
   "source": [
    "## Introduction to Python SQL Libraries\n",
    "\n",
    "In this activity we will work with three relational databases, SQlite, MySQL and PostgreSQL. All three of these database products are used for product develop and as well as Data Science.\n",
    "\n",
    "By default SQLite should already be installed, as part of the Python installation process. SQLite databases are serverless and self-contained, since they read and write data to a file. This means that, unlike with MySQL and PostgreSQL, you don’t even need to install and run an SQLite server to perform database operations!\n",
    "\n",
    "To install MySQL refer to this site:\n",
    "\n",
    "https://dev.mysql.com\n",
    "\n",
    "To install PostgreSQL refer to this site.\n",
    "\n",
    "https://postgresql.org\n",
    "\n",
    "We will start off by review the following high level database schema.\n",
    "\n",
    "![image1.png](images/image1.png)\n",
    "\n",
    "\n",
    "Both ``users`` and ``posts`` will have a one-to-many relationship since one user can like many posts. Similarly, one user can post many comments, and one post can have multiple comments. So, both ``users`` and ``posts`` will also have  one-to-many releationshops with the ``comments`` table. This also applies to the ``likes`` table, so both ``users`` and ``posts`` will have a one-to-many relationship with the ``likes`` table.\n",
    "\n",
    "\n",
    "## Connecting to the three databases\n",
    "\n",
    "We will first start off by walking through creating a connection to a SQLite database, then followed by MySQL and finally PostgreSQL\n",
    "\n",
    "### Connecting to an SQLite database using sqlite3\n",
    "\n",
    "We will import the sqlite3 library to connect to an SQLite database in Python:"
   ]
  },
  {
   "cell_type": "code",
   "execution_count": 1,
   "metadata": {},
   "outputs": [],
   "source": [
    "import sqlite3\n",
    "\n",
    "from sqlite3 import Error\n",
    "\n",
    "\n",
    "def create_connection(path):\n",
    "\n",
    "    connection = None\n",
    "\n",
    "    try:\n",
    "\n",
    "        connection = sqlite3.connect(path)\n",
    "\n",
    "        print(\"Connection to SQLite DB successful\")\n",
    "\n",
    "    except Error as e:\n",
    "\n",
    "        print(f\"The error '{e}' occurred\")\n",
    "\n",
    "\n",
    "    return connection\n"
   ]
  },
  {
   "cell_type": "markdown",
   "metadata": {},
   "source": [
    "\n",
    "- Lines 1 and 2 import ``sqlite3`` and the module’s ``Error`` class.\n",
    "\n",
    "- Line 4 defines a function ``.create_connection()`` that accepts the path to the SQLite database.\n",
    "\n",
    "- Line 7 uses ``.connect()`` from the sqlite3 module and takes the SQLite database path as a parameter. If the database exists at the specified location, then a connection to the database is established. Otherwise, a new database is created at the specified location, and a connection is established.\n",
    "\n",
    "- Line 8 prints the status of the successful database connection.\n",
    "\n",
    "- Line 9 catches any ``exception`` that might be thrown if ``.connect()`` fails to establish a connection.\n",
    "\n",
    "- Line 10 displays the error message in the console.\n",
    "\n",
    "Now that we have our function created for ``.create_conneciton()`` lets create a database called ``my_app.sqlite`` in the default folder for this Jupyter Notebook. Note if you are using windows the syntax  would be ``\"E:\\\\my_app.sqlite\"``.\n"
   ]
  },
  {
   "cell_type": "code",
   "execution_count": 2,
   "metadata": {},
   "outputs": [
    {
     "name": "stdout",
     "output_type": "stream",
     "text": [
      "Connection to SQLite DB successful\n"
     ]
    }
   ],
   "source": [
    "connection = create_connection(\"New_app.sqlite\")"
   ]
  },
  {
   "cell_type": "markdown",
   "metadata": {},
   "source": [
    "### Connecting to a MySQL\n",
    "\n",
    "Unlike SQLite, there’s no default Python SQL module that you can use to connect to a MySQL database. Instead, you’ll need to install a Python SQL driver for MySQL in order to interact with a MySQL database from within a Python application. One such driver is mysql-connector-python. You can download this Python SQL module with ``pip install mysql-connector-python``. You will need to open up a terminal window or command prompt depending Operating System.\n",
    "\n",
    "MySQL is a server-based database management system. One MySQL server can have multiple databases. Unlike SQLite, where creating a connection is tantamount to creating a database, a MySQL database has a two-step process for database creation:\n",
    "\n",
    "- Make a connection to a MySQL server.\n",
    "- Execute a separate query to create the database.\n",
    "\n",
    "Lets start off by defining a function that connects to the MySQL database server and returns the connection object:\n",
    "\n",
    "NOTE: if you encounter an access error establishing a connection to the database using Linux use the following to resolve your error: https://stackoverflow.com/questions/39281594/error-1698-28000-access-denied-for-user-rootlocalhost"
   ]
  },
  {
   "cell_type": "code",
   "execution_count": null,
   "metadata": {},
   "outputs": [],
   "source": [
    "import mysql.connector\n",
    "\n",
    "from mysql.connector import Error\n",
    "\n",
    "\n",
    "def create_connection(host_name, user_name, user_password):\n",
    "\n",
    "    connection = None\n",
    "\n",
    "    try:\n",
    "\n",
    "        connection = mysql.connector.connect(\n",
    "\n",
    "            host=host_name,\n",
    "\n",
    "            user=user_name,\n",
    "\n",
    "            passwd=user_password\n",
    "\n",
    "        )\n",
    "\n",
    "        print(\"Connection to MySQL DB successful\")\n",
    "\n",
    "    except Error as e:\n",
    "\n",
    "        print(f\"The error '{e}' occurred\")\n",
    "\n",
    "\n",
    "    return connection\n",
    "\n",
    "\n",
    "connection = create_connection(\"localhost\", \"root\", \"\")"
   ]
  },
  {
   "cell_type": "markdown",
   "metadata": {},
   "source": [
    "In the above script, we define a function ``create_connection()`` that accepts three parameters:\n",
    "\n",
    "- ``host_name``\n",
    "- ``user_name``\n",
    "- ``user_password``\n",
    "\n",
    "The mysql.connector Python SQL module contains a method ``.connect()`` that you use in line 7 to connect to a MySQL database server. Once the connection is established, the connection object is returned to the calling function. Finally, in line 18 you call ``create_connection()`` with the ``host name``, ``username``, and ``password``.\n",
    "\n",
    "So far, you’ve only established the connection. The database is not yet created. To do this, you’ll define another function ``create_database()`` that accepts two parameters:\n",
    "\n",
    "- connection is the connection object to the database server that you want to interact with.\n",
    "- query is the query that creates the database.\n",
    "\n",
    "Here’s what this function looks like:"
   ]
  },
  {
   "cell_type": "code",
   "execution_count": null,
   "metadata": {},
   "outputs": [],
   "source": [
    "def create_database(connection, query):\n",
    "    cursor = connection.cursor()\n",
    "    try:\n",
    "        cursor.execute(query)\n",
    "        print(\"Database created successfully\")\n",
    "    except Error as e:\n",
    "        print(f\"The error '{e}' occurred\")\n"
   ]
  },
  {
   "cell_type": "markdown",
   "metadata": {},
   "source": [
    "To execute queries, you use the ``cursor`` object. The query to be executed is passed to ``cursor.execute()`` in string format.\n",
    "\n",
    "Create a database named my_app for your social media app in the MySQL database server:"
   ]
  },
  {
   "cell_type": "code",
   "execution_count": null,
   "metadata": {},
   "outputs": [],
   "source": [
    "create_database_query = \"CREATE DATABASE my_app\"\n",
    "create_database(connection, create_database_query)"
   ]
  },
  {
   "cell_type": "markdown",
   "metadata": {},
   "source": [
    "Now you’ve created a database my_app on the database server. However, the connection object returned by the ``create_connection()`` is connected to the MySQL database server. You need to connect to the my_app database. To do so, you can modify ``create_connection()`` as follows:"
   ]
  },
  {
   "cell_type": "code",
   "execution_count": null,
   "metadata": {},
   "outputs": [],
   "source": [
    "import mysql.connector\n",
    "\n",
    "from mysql.connector import Error\n",
    "\n",
    "\n",
    "def create_connection(host_name, user_name, user_password, db_name):\n",
    "\n",
    "    connection = None\n",
    "\n",
    "    try:\n",
    "\n",
    "        connection = mysql.connector.connect(\n",
    "\n",
    "            host=host_name,\n",
    "\n",
    "            user=user_name,\n",
    "\n",
    "            passwd=user_password,\n",
    "            \n",
    "            database=db_name\n",
    "\n",
    "        )\n",
    "\n",
    "        print(\"Connection to MYSQL DB successful\")\n",
    "\n",
    "    except Error as e:\n",
    "\n",
    "        print(f\"The error '{e}' occurred\")\n",
    "\n",
    "\n",
    "    return connection\n",
    "\n",
    "\n",
    "connection = create_connection(\"localhost\", \"root\", \"\", \"my_app\")\n"
   ]
  },
  {
   "cell_type": "markdown",
   "metadata": {},
   "source": [
    "## Creating Tables\n",
    "\n",
    "In the previous section, you saw how to connect to SQLite, MySQL, and PostgreSQL database servers using different Python SQL libraries. You created the ``my_app`` database on all three database servers. In this section, you’ll see how to ``create tables`` inside these three databases.\n",
    "\n",
    "As discussed earlier, you’ll create four tables:\n",
    "\n",
    "- users\n",
    "- posts\n",
    "- comments\n",
    "- likes\n",
    "\n",
    "we will start off with SQLite.\n",
    "\n",
    "### SQLlite Table Creation\n",
    "\n",
    "To execute queries in SQLite, use ``cursor.execute()``. In this section, you’ll define a function ``execute_query()`` that uses this method. Your function will accept the connection object and a query string, which you’ll pass to ``cursor.execute()``.\n",
    "\n",
    "``.execute()`` can execute any query passed to it in the form of string. You’ll use this method to create tables in this section. In the upcoming sections, you’ll use this same method to execute ``update`` and ``delete`` queries as well. This code tries to execute the given query and prints an error message if necessary."
   ]
  },
  {
   "cell_type": "code",
   "execution_count": null,
   "metadata": {},
   "outputs": [],
   "source": [
    "def execute_query(connection, query):\n",
    "    cursor = connection.cursor()\n",
    "    try:\n",
    "        cursor.execute(query)\n",
    "        connection.commit()\n",
    "        print(\"Query executed successfully\")\n",
    "    except Error as e:\n",
    "        print(f\"The error '{e}' occurred\")\n"
   ]
  },
  {
   "cell_type": "markdown",
   "metadata": {},
   "source": [
    "Next we will generate our query for the ``Users`` table."
   ]
  },
  {
   "cell_type": "code",
   "execution_count": null,
   "metadata": {},
   "outputs": [],
   "source": [
    "create_users_table = \"\"\"\n",
    "CREATE TABLE IF NOT EXISTS users (\n",
    "  id INTEGER PRIMARY KEY AUTOINCREMENT,\n",
    "  name TEXT NOT NULL,\n",
    "  age INTEGER,\n",
    "  gender TEXT,\n",
    "  nationality TEXT\n",
    ");\n",
    "\"\"\"\n"
   ]
  },
  {
   "cell_type": "markdown",
   "metadata": {},
   "source": [
    "This says to create a table ``users`` with the following five columns:\n",
    "\n",
    "- id\n",
    "- name\n",
    "- age\n",
    "- gender\n",
    "- nationality\n",
    "\n",
    "Finally, we will call ``execute_query()`` to create the ``users`` table. You’ll pass in the connection object that you created in the previous section, along with the ``create_users_table`` string that contains the create table query:"
   ]
  },
  {
   "cell_type": "code",
   "execution_count": null,
   "metadata": {},
   "outputs": [],
   "source": [
    "execute_query(connection, create_users_table) "
   ]
  },
  {
   "cell_type": "markdown",
   "metadata": {},
   "source": [
    "Next we will generate our query for the ``posts`` table."
   ]
  },
  {
   "cell_type": "code",
   "execution_count": null,
   "metadata": {},
   "outputs": [],
   "source": [
    "create_posts_table = \"\"\"\n",
    "CREATE TABLE IF NOT EXISTS posts(\n",
    "  id INTEGER PRIMARY KEY AUTOINCREMENT, \n",
    "  title TEXT NOT NULL, \n",
    "  description TEXT NOT NULL, \n",
    "  user_id INTEGER NOT NULL, \n",
    "  FOREIGN KEY (user_id) REFERENCES users (id)\n",
    ");\n",
    "\"\"\"\n"
   ]
  },
  {
   "cell_type": "code",
   "execution_count": null,
   "metadata": {},
   "outputs": [],
   "source": [
    "execute_query(connection, create_posts_table) "
   ]
  },
  {
   "cell_type": "markdown",
   "metadata": {},
   "source": [
    "Next we will create the quesry for both the ``comments`` and ``likes`` table"
   ]
  },
  {
   "cell_type": "code",
   "execution_count": null,
   "metadata": {},
   "outputs": [],
   "source": [
    "create_comments_table = \"\"\"\n",
    "CREATE TABLE IF NOT EXISTS comments (\n",
    "  id INTEGER PRIMARY KEY AUTOINCREMENT, \n",
    "  text TEXT NOT NULL, \n",
    "  user_id INTEGER NOT NULL, \n",
    "  post_id INTEGER NOT NULL, \n",
    "  FOREIGN KEY (user_id) REFERENCES users (id) FOREIGN KEY (post_id) REFERENCES posts (id)\n",
    ");\n",
    "\"\"\"\n",
    "\n",
    "create_likes_table = \"\"\"\n",
    "CREATE TABLE IF NOT EXISTS likes (\n",
    "  id INTEGER PRIMARY KEY AUTOINCREMENT, \n",
    "  user_id INTEGER NOT NULL, \n",
    "  post_id integer NOT NULL, \n",
    "  FOREIGN KEY (user_id) REFERENCES users (id) FOREIGN KEY (post_id) REFERENCES posts (id)\n",
    ");\n",
    "\"\"\"\n",
    "\n",
    "execute_query(connection, create_comments_table)  \n",
    "execute_query(connection, create_likes_table)  "
   ]
  },
  {
   "cell_type": "markdown",
   "metadata": {},
   "source": [
    "Now that our tables are created for SQLite lets create the tables for MySQL.\n",
    "\n",
    "### MySQL Table Creation\n",
    "\n",
    "We will use the ``mysql-connector-python`` Python SQL module to create tables in MySQL. Just like with SQLite, you need to pass your query to ``cursor.execute()``, which is returned by calling ``.cursor()`` on the connection object. You can create another function ``execute_query()`` that accepts the connection and query string:"
   ]
  },
  {
   "cell_type": "code",
   "execution_count": null,
   "metadata": {},
   "outputs": [],
   "source": [
    "def execute_query(connection, query):\n",
    "\n",
    "    cursor = connection.cursor()\n",
    "\n",
    "    try:\n",
    "\n",
    "        cursor.execute(query) # pass our Query through\n",
    "\n",
    "        connection.commit()\n",
    "\n",
    "        print(\"Query executed successfully\")\n",
    "\n",
    "    except Error as e:\n",
    "\n",
    "        print(f\"The error '{e}' occurred\")"
   ]
  },
  {
   "cell_type": "markdown",
   "metadata": {},
   "source": [
    "Now lets create the ``users`` table."
   ]
  },
  {
   "cell_type": "code",
   "execution_count": null,
   "metadata": {},
   "outputs": [],
   "source": [
    "create_users_table = \"\"\"\n",
    "CREATE TABLE IF NOT EXISTS users (\n",
    "  id INT AUTO_INCREMENT, \n",
    "  name TEXT NOT NULL, \n",
    "  age INT, \n",
    "  gender TEXT, \n",
    "  nationality TEXT, \n",
    "  PRIMARY KEY (id)\n",
    ") ENGINE = InnoDB\n",
    "\"\"\"\n",
    "\n",
    "execute_query(connection, create_users_table)\n"
   ]
  },
  {
   "cell_type": "markdown",
   "metadata": {},
   "source": [
    "Now Lets create the ``posts`` table."
   ]
  },
  {
   "cell_type": "code",
   "execution_count": null,
   "metadata": {},
   "outputs": [],
   "source": [
    "create_posts_table = \"\"\"\n",
    "CREATE TABLE IF NOT EXISTS posts (\n",
    "  id INT AUTO_INCREMENT, \n",
    "  title TEXT NOT NULL, \n",
    "  description TEXT NOT NULL, \n",
    "  user_id INTEGER NOT NULL, \n",
    "  FOREIGN KEY fk_user_id (user_id) REFERENCES users(id), \n",
    "  PRIMARY KEY (id)\n",
    ") ENGINE = InnoDB\n",
    "\"\"\"\n",
    "\n",
    "execute_query(connection, create_posts_table)\n"
   ]
  },
  {
   "cell_type": "code",
   "execution_count": null,
   "metadata": {},
   "outputs": [],
   "source": [
    "create_comments_table = \"\"\"\n",
    "CREATE TABLE IF NOT EXISTS comments (\n",
    "  id INT AUTO_INCREMENT, \n",
    "  text TEXT NOT NULL, \n",
    "  user_id INTEGER NOT NULL, \n",
    "  post_id INTEGER NOT NULL,  \n",
    "  FOREIGN KEY fk_user_id (user_id) REFERENCES users(id), FOREIGN KEY (post_id) REFERENCES posts (id), \n",
    "  PRIMARY KEY (id)\n",
    ") ENGINE = InnoDB\n",
    "\"\"\"\n",
    "\n",
    "create_likes_table = \"\"\"\n",
    "CREATE TABLE IF NOT EXISTS likes (\n",
    "  id INT AUTO_INCREMENT, \n",
    "  user_id INTEGER NOT NULL, \n",
    "  post_id integer NOT NULL, \n",
    "  FOREIGN KEY fk_user_id (user_id) REFERENCES users(id), FOREIGN KEY (post_id) REFERENCES posts (id), \n",
    "  PRIMARY KEY (id)\n",
    ") ENGINE = InnoDB\n",
    "\"\"\"\n",
    "\n",
    "execute_query(connection, create_comments_table)\n",
    "execute_query(connection, create_likes_table)"
   ]
  },
  {
   "cell_type": "markdown",
   "metadata": {},
   "source": [
    "### Inserting Records using SQLite\n",
    "\n",
    "Now that we have created our tables its times to add some data to them. We will start by adding five records into the ``users`` table."
   ]
  },
  {
   "cell_type": "code",
   "execution_count": null,
   "metadata": {},
   "outputs": [],
   "source": [
    "create_users = \"\"\"\n",
    "INSERT INTO\n",
    "  users (name, age, gender, nationality)\n",
    "VALUES\n",
    "  ('James', 25, 'male', 'USA'),\n",
    "  ('Leila', 32, 'female', 'France'),\n",
    "  ('Brigitte', 35, 'female', 'England'),\n",
    "  ('Mike', 40, 'male', 'Denmark'),\n",
    "  ('Elizabeth', 21, 'female', 'Canada');\n",
    "\"\"\"\n",
    "\n",
    "execute_query(connection, create_users)  "
   ]
  },
  {
   "cell_type": "markdown",
   "metadata": {},
   "source": [
    "Since you set the id column to auto-increment, you don’t need to specify the value of the id column for these users. The users table will auto-populate these five records with id values from 1 to 5.\n",
    "\n",
    "We will now insert six records into the ``posts`` table.\n"
   ]
  },
  {
   "cell_type": "code",
   "execution_count": null,
   "metadata": {},
   "outputs": [],
   "source": [
    "create_posts = \"\"\"\n",
    "INSERT INTO\n",
    "  posts (title, description, user_id)\n",
    "VALUES\n",
    "  (\"Happy\", \"I am feeling very happy today\", 1),\n",
    "  (\"Hot Weather\", \"The weather is very hot today\", 2),\n",
    "  (\"Help\", \"I need some help with my work\", 2),\n",
    "  (\"Great News\", \"I am getting married\", 1),\n",
    "  (\"Interesting Game\", \"It was a fantastic game of tennis\", 5),\n",
    "  (\"Party\", \"Anyone up for a late-night party today?\", 3);\n",
    "\"\"\"\n",
    "\n",
    "execute_query(connection, create_posts)  "
   ]
  },
  {
   "cell_type": "markdown",
   "metadata": {},
   "source": [
    "It’s important to mention that the ``user_id`` column of the posts table is a foreign key that references the ``id`` column of the ``users`` table. This means that the ``user_id`` column must contain a value that already exists in the ``id`` column of the ``users`` table. If it doesn’t exist, then you’ll see an error.\n",
    "\n",
    "Now lets inserts records into the ``comments`` and ``likes`` tables:"
   ]
  },
  {
   "cell_type": "code",
   "execution_count": null,
   "metadata": {},
   "outputs": [],
   "source": [
    "create_comments = \"\"\"\n",
    "INSERT INTO\n",
    "  comments (text, user_id, post_id)\n",
    "VALUES\n",
    "  ('Count me in', 1, 6),\n",
    "  ('What sort of help?', 5, 3),\n",
    "  ('Congrats buddy', 2, 4),\n",
    "  ('I was rooting for Nadal though', 4, 5),\n",
    "  ('Help with your thesis?', 2, 3),\n",
    "  ('Many congratulations', 5, 4);\n",
    "\"\"\"\n",
    "\n",
    "create_likes = \"\"\"\n",
    "INSERT INTO\n",
    "  likes (user_id, post_id)\n",
    "VALUES\n",
    "  (1, 6),\n",
    "  (2, 3),\n",
    "  (1, 5),\n",
    "  (5, 4),\n",
    "  (2, 4),\n",
    "  (4, 2),\n",
    "  (3, 6);\n",
    "\"\"\"\n",
    "\n",
    "execute_query(connection, create_comments)\n",
    "execute_query(connection, create_likes)  "
   ]
  },
  {
   "cell_type": "markdown",
   "metadata": {},
   "source": [
    "### Inserting Records using MySQL\n",
    "\n",
    "There are two ways to insert records into MySQL databases from a Python application. The first approach is similar to SQLite. You can store the ``INSERT INTO`` query in a string and then use ``cursor.execute()`` to insert records.\n",
    "\n",
    "Earlier, you defined a wrapper function ``execute_query()`` that you used to insert records. You can use this same function now to insert records into your MySQL table. \n",
    "\n",
    "The following script inserts records into the ``users`` table using ``execute_query()``:"
   ]
  },
  {
   "cell_type": "code",
   "execution_count": null,
   "metadata": {},
   "outputs": [],
   "source": [
    "create_users = \"\"\"\n",
    "INSERT INTO\n",
    "  `users` (`name`, `age`, `gender`, `nationality`)\n",
    "VALUES\n",
    "  ('James', 25, 'male', 'USA'),\n",
    "  ('Leila', 32, 'female', 'France'),\n",
    "  ('Brigitte', 35, 'female', 'England'),\n",
    "  ('Mike', 40, 'male', 'Denmark'),\n",
    "  ('Elizabeth', 21, 'female', 'Canada');\n",
    "\"\"\"\n",
    "\n",
    "execute_query(connection, create_users) "
   ]
  },
  {
   "cell_type": "markdown",
   "metadata": {},
   "source": [
    "The second approach uses ``cursor.executemany()``, which accepts two parameters:\n",
    "\n",
    "- The query string containing placeholders for the records to be inserted\n",
    "- The list of records that you want to insert\n",
    "\n",
    "Look at the following example, which inserts two records into the ``likes`` table:"
   ]
  },
  {
   "cell_type": "code",
   "execution_count": null,
   "metadata": {},
   "outputs": [],
   "source": [
    "sql = \"INSERT INTO likes ( user_id, post_id ) VALUES ( %s, %s )\"\n",
    "val = [(4, 5), (3, 4)]\n",
    "\n",
    "cursor = connection.cursor()\n",
    "cursor.executemany(sql, val)\n",
    "connection.commit()\n"
   ]
  },
  {
   "cell_type": "code",
   "execution_count": null,
   "metadata": {},
   "outputs": [],
   "source": []
  },
  {
   "cell_type": "markdown",
   "metadata": {},
   "source": [
    "### Selecting records using SQLite\n",
    "\n",
    "To select records using SQLite, you can again use ``cursor.execute()``. However, after you’ve done this, you’ll need to call ``.fetchall()``. This method returns a list of tuples where each tuple is mapped to the corresponding row in the retrieved records.\n",
    "\n",
    "To simplify the process, you can create a function ``execute_read_query()``:"
   ]
  },
  {
   "cell_type": "code",
   "execution_count": null,
   "metadata": {},
   "outputs": [],
   "source": [
    "def execute_read_query(connection, query):\n",
    "    cursor = connection.cursor()\n",
    "    result = None\n",
    "    try:\n",
    "        cursor.execute(query)\n",
    "        result = cursor.fetchall()\n",
    "        return result\n",
    "    except Error as e:\n",
    "        print(f\"The error '{e}' occurred\")\n"
   ]
  },
  {
   "cell_type": "code",
   "execution_count": null,
   "metadata": {},
   "outputs": [],
   "source": [
    "select_users = \"SELECT * from users\"\n",
    "users = execute_read_query(connection, select_users)\n",
    "\n",
    "for user in users:\n",
    "    print(user)\n"
   ]
  },
  {
   "cell_type": "code",
   "execution_count": null,
   "metadata": {},
   "outputs": [],
   "source": []
  }
 ],
 "metadata": {
  "kernelspec": {
   "display_name": "Python 3",
   "language": "python",
   "name": "python3"
  },
  "language_info": {
   "codemirror_mode": {
    "name": "ipython",
    "version": 3
   },
   "file_extension": ".py",
   "mimetype": "text/x-python",
   "name": "python",
   "nbconvert_exporter": "python",
   "pygments_lexer": "ipython3",
   "version": "3.6.9"
  }
 },
 "nbformat": 4,
 "nbformat_minor": 4
}
