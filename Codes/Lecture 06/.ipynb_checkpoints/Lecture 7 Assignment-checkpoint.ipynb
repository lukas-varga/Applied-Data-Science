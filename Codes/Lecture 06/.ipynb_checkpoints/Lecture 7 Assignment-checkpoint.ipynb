{
 "cells": [
  {
   "cell_type": "markdown",
   "metadata": {},
   "source": [
    "## Activity 2\n",
    "\n",
    "- Try to solve the linear equation for y = x+10 (2pt)\n",
    "\n",
    "- Draw this plot for previous function intersection for 50 data points between -2 to 2 (2pt)\n",
    "\n",
    "- Try to interpolate for cos x for 100 sample points and draw the plot similar to sin x. (2pt)\n",
    "\n",
    "your results should look like:\n",
    "\n",
    "![image2](images/image2.png)"
   ]
  },
  {
   "cell_type": "code",
   "execution_count": null,
   "metadata": {},
   "outputs": [],
   "source": [
    "#Start Code\n",
    "\n",
    "\n",
    "\n",
    "\n",
    "\n",
    "#End Code"
   ]
  },
  {
   "cell_type": "markdown",
   "metadata": {},
   "source": [
    "## Activity 3\n",
    "\n",
    "Find the difference between the numerical solution and analytical for the previous example having function as “func” in the limit (0,5) respectively. (2pt)\n",
    "\n",
    "your results should be:\n",
    "\n",
    "- fsolution=5.100345067540932\n",
    "- dsolution=5.093314597966794\n",
    "- The difference is 0.00703046957413811"
   ]
  },
  {
   "cell_type": "code",
   "execution_count": null,
   "metadata": {},
   "outputs": [],
   "source": [
    "#Start Code\n",
    "\n",
    "\n",
    "\n",
    "\n",
    "\n",
    "#End Code"
   ]
  },
  {
   "cell_type": "markdown",
   "metadata": {},
   "source": [
    "## Activity 4\n",
    "\n",
    "- Find the mean and standard deviation and three moments of normal distribution having loc = -1, scale =2 (3pts)\n",
    "- Draw 1000 random sample from the distribution with same loc and scale values and plot their histogram. (3pts)\n",
    "- Fit the pdf of the distribution over histogram (4pts)\n",
    "\n",
    "your output should look like the following:\n",
    "\n",
    "![image5](images/image5.png)"
   ]
  },
  {
   "cell_type": "code",
   "execution_count": null,
   "metadata": {},
   "outputs": [],
   "source": [
    "#Start Code\n",
    "\n",
    "\n",
    "\n",
    "\n",
    "\n",
    "#End Code"
   ]
  },
  {
   "cell_type": "markdown",
   "metadata": {},
   "source": [
    "## Activity 5\n",
    "\n",
    "Repeat the K-means clustering algo with 3 clusters and plot it. (5pt)\n",
    "\n",
    "Your result should look like something like this, though it will vary due to the randomness of the data being generated:\n",
    "\n",
    "![image6](images/image6.png)\n"
   ]
  },
  {
   "cell_type": "code",
   "execution_count": null,
   "metadata": {},
   "outputs": [],
   "source": [
    "#Start Code\n",
    "\n",
    "\n",
    "\n",
    "\n",
    "\n",
    "#End Code"
   ]
  },
  {
   "cell_type": "markdown",
   "metadata": {},
   "source": [
    "## Activity 6\n",
    "Play with picture and try to covert it in the following format and plot it (10pt)\n",
    "\n",
    "Hint1: second image is almost 1/4th of the figure\n",
    "\n",
    "Hint2: 5th image is without reshaping\n",
    "\n",
    "![image](images/Image.png)\n"
   ]
  },
  {
   "cell_type": "code",
   "execution_count": 1,
   "metadata": {},
   "outputs": [],
   "source": [
    "#Start Code\n",
    "\n",
    "\n",
    "\n",
    "\n",
    "\n",
    "#End Code"
   ]
  }
 ],
 "metadata": {
  "kernelspec": {
   "display_name": "Python 3",
   "language": "python",
   "name": "python3"
  },
  "language_info": {
   "codemirror_mode": {
    "name": "ipython",
    "version": 3
   },
   "file_extension": ".py",
   "mimetype": "text/x-python",
   "name": "python",
   "nbconvert_exporter": "python",
   "pygments_lexer": "ipython3",
   "version": "3.6.9"
  }
 },
 "nbformat": 4,
 "nbformat_minor": 4
}
